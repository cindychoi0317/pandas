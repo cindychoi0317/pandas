{
 "cells": [
  {
   "cell_type": "code",
   "execution_count": 1,
   "metadata": {},
   "outputs": [],
   "source": [
    "import pandas as pd\n",
    "import openpyxl"
   ]
  },
  {
   "cell_type": "code",
   "execution_count": 30,
   "metadata": {},
   "outputs": [
    {
     "name": "stdout",
     "output_type": "stream",
     "text": [
      "  소속_대분류 소속_소분류   소속   직위   성명      개별index 대분류 본인과의 관계 재산의 종류  \\\n",
      "0    청와대    청와대  대통령  대통령  문재인  대통령-대통령-문재인  토지      본인    잡종지   \n",
      "1    청와대    청와대  대통령  대통령  문재인  대통령-대통령-문재인  토지      본인    주차장   \n",
      "\n",
      "             소재지 면적 등 권리의 명세   종전가액  증가액  증가액_실거래가  감소액  감소액_실거래가   현재가액  \\\n",
      "0  경상남도 양산시 매곡동 28번지 159.00㎡  20177    0         0    0         0  20177   \n",
      "1  경상남도 양산시 매곡동 29번지 577.00㎡  73221    0         0    0         0  73221   \n",
      "\n",
      "        변동사유   years  \n",
      "0  공시지가 변동없음  2018.0  \n",
      "1  공시지가 변동없음  2018.0  \n",
      "<class 'pandas.core.frame.DataFrame'>\n"
     ]
    }
   ],
   "source": [
    "highofficer = pd.read_excel('C:\\\\GitHub\\\\pandas\\\\data\\\\etc\\\\highofficer.xlsx')\n",
    "print(highofficer.head(n=2))\n",
    "print(type(highofficer))"
   ]
  },
  {
   "cell_type": "code",
   "execution_count": 31,
   "metadata": {},
   "outputs": [
    {
     "name": "stdout",
     "output_type": "stream",
     "text": [
      "  소속_대분류   직위   성명 재산의 종류   현재가액   years\n",
      "0    청와대  대통령  문재인    잡종지  20177  2018.0\n",
      "1    청와대  대통령  문재인    주차장  73221  2018.0\n",
      "<class 'pandas.core.frame.DataFrame'>\n"
     ]
    }
   ],
   "source": [
    "highofficer_asset = highofficer[['소속_대분류', '직위', '성명', '재산의 종류', '현재가액', 'years']]\n",
    "print(highofficer_asset.head(n=2))\n",
    "print(type(highofficer_asset))"
   ]
  },
  {
   "cell_type": "code",
   "execution_count": 36,
   "metadata": {},
   "outputs": [
    {
     "name": "stdout",
     "output_type": "stream",
     "text": [
      "      소속_대분류   직위   성명 재산의 종류   현재가액   years\n",
      "42447    청와대  대통령  문재인    잡종지  23913  2019.0\n",
      "42448    청와대  대통령  문재인    주차장  86780  2019.0\n",
      "42449    청와대  대통령  문재인      답    355  2019.0\n",
      "42450    청와대  대통령  문재인      답    331  2019.0\n",
      "42451    청와대  대통령  문재인      답   1113  2019.0\n",
      "(43727, 6)\n"
     ]
    }
   ],
   "source": [
    "highofficer_asset_2019 = highofficer_asset[highofficer_asset.years == 2019.0]\n",
    "print(highofficer_asset_2019.head())\n",
    "print(highofficer_asset_2019.shape)"
   ]
  },
  {
   "cell_type": "code",
   "execution_count": 40,
   "metadata": {},
   "outputs": [
    {
     "ename": "TypeError",
     "evalue": "'method' object is not subscriptable",
     "output_type": "error",
     "traceback": [
      "\u001b[1;31m---------------------------------------------------------------------------\u001b[0m",
      "\u001b[1;31mTypeError\u001b[0m                                 Traceback (most recent call last)",
      "\u001b[1;32m<ipython-input-40-0298460046df>\u001b[0m in \u001b[0;36m<module>\u001b[1;34m\u001b[0m\n\u001b[1;32m----> 1\u001b[1;33m \u001b[0mhighofficer_name\u001b[0m \u001b[1;33m=\u001b[0m \u001b[0mhighofficer_asset_2019\u001b[0m\u001b[1;33m.\u001b[0m\u001b[0mgroupby\u001b[0m\u001b[1;33m[\u001b[0m\u001b[1;34m'성명'\u001b[0m\u001b[1;33m]\u001b[0m\u001b[1;33m.\u001b[0m\u001b[0msum\u001b[0m\u001b[1;33m(\u001b[0m\u001b[1;33m)\u001b[0m\u001b[1;33m\u001b[0m\u001b[1;33m\u001b[0m\u001b[0m\n\u001b[0m",
      "\u001b[1;31mTypeError\u001b[0m: 'method' object is not subscriptable"
     ]
    }
   ],
   "source": [
    "highofficer_name = highofficer_asset_2019.groupby['성명'].sum()"
   ]
  },
  {
   "cell_type": "code",
   "execution_count": null,
   "metadata": {},
   "outputs": [],
   "source": []
  }
 ],
 "metadata": {
  "kernelspec": {
   "display_name": "Python 3",
   "language": "python",
   "name": "python3"
  },
  "language_info": {
   "codemirror_mode": {
    "name": "ipython",
    "version": 3
   },
   "file_extension": ".py",
   "mimetype": "text/x-python",
   "name": "python",
   "nbconvert_exporter": "python",
   "pygments_lexer": "ipython3",
   "version": "3.7.6"
  }
 },
 "nbformat": 4,
 "nbformat_minor": 4
}
