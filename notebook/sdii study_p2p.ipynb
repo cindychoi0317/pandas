{
 "cells": [
  {
   "cell_type": "code",
   "execution_count": 1,
   "metadata": {},
   "outputs": [],
   "source": [
    "import pandas as pd\n",
    "import numpy as np"
   ]
  },
  {
   "cell_type": "code",
   "execution_count": 9,
   "metadata": {},
   "outputs": [
    {
     "data": {
      "text/html": [
       "<div>\n",
       "<style scoped>\n",
       "    .dataframe tbody tr th:only-of-type {\n",
       "        vertical-align: middle;\n",
       "    }\n",
       "\n",
       "    .dataframe tbody tr th {\n",
       "        vertical-align: top;\n",
       "    }\n",
       "\n",
       "    .dataframe thead th {\n",
       "        text-align: right;\n",
       "    }\n",
       "</style>\n",
       "<table border=\"1\" class=\"dataframe\">\n",
       "  <thead>\n",
       "    <tr style=\"text-align: right;\">\n",
       "      <th></th>\n",
       "      <th>경매번호</th>\n",
       "      <th>경매종류</th>\n",
       "      <th>참여순서</th>\n",
       "      <th>투자자ID</th>\n",
       "      <th>투자일시</th>\n",
       "      <th>투자금액금액</th>\n",
       "      <th>투자성사여부</th>\n",
       "      <th>입찰이자율</th>\n",
       "      <th>오토비딩</th>\n",
       "      <th>미투비딩갑</th>\n",
       "      <th>미투비딩을</th>\n",
       "    </tr>\n",
       "  </thead>\n",
       "  <tbody>\n",
       "    <tr>\n",
       "      <th>0</th>\n",
       "      <td>A8C32F3</td>\n",
       "      <td>개인</td>\n",
       "      <td>1</td>\n",
       "      <td>UAEB30A</td>\n",
       "      <td>2007-05-29 08:53:31</td>\n",
       "      <td>20000</td>\n",
       "      <td>0</td>\n",
       "      <td>13.0</td>\n",
       "      <td>0</td>\n",
       "      <td>0</td>\n",
       "      <td>0</td>\n",
       "    </tr>\n",
       "    <tr>\n",
       "      <th>1</th>\n",
       "      <td>A8C32F3</td>\n",
       "      <td>개인</td>\n",
       "      <td>2</td>\n",
       "      <td>U886072</td>\n",
       "      <td>2007-05-28 14:10:45</td>\n",
       "      <td>20000</td>\n",
       "      <td>0</td>\n",
       "      <td>20.0</td>\n",
       "      <td>0</td>\n",
       "      <td>0</td>\n",
       "      <td>0</td>\n",
       "    </tr>\n",
       "    <tr>\n",
       "      <th>2</th>\n",
       "      <td>A8C32F3</td>\n",
       "      <td>개인</td>\n",
       "      <td>3</td>\n",
       "      <td>U8A803C</td>\n",
       "      <td>2007-05-28 14:09:18</td>\n",
       "      <td>20000</td>\n",
       "      <td>0</td>\n",
       "      <td>15.0</td>\n",
       "      <td>0</td>\n",
       "      <td>0</td>\n",
       "      <td>0</td>\n",
       "    </tr>\n",
       "    <tr>\n",
       "      <th>3</th>\n",
       "      <td>A8C32F3</td>\n",
       "      <td>개인</td>\n",
       "      <td>4</td>\n",
       "      <td>U886072</td>\n",
       "      <td>2007-05-28 14:04:55</td>\n",
       "      <td>20000</td>\n",
       "      <td>0</td>\n",
       "      <td>20.0</td>\n",
       "      <td>0</td>\n",
       "      <td>0</td>\n",
       "      <td>0</td>\n",
       "    </tr>\n",
       "    <tr>\n",
       "      <th>4</th>\n",
       "      <td>AAD65CE</td>\n",
       "      <td>개인</td>\n",
       "      <td>1</td>\n",
       "      <td>U4E8DF4</td>\n",
       "      <td>2007-06-01 11:26:25</td>\n",
       "      <td>20000</td>\n",
       "      <td>0</td>\n",
       "      <td>7.0</td>\n",
       "      <td>0</td>\n",
       "      <td>0</td>\n",
       "      <td>0</td>\n",
       "    </tr>\n",
       "  </tbody>\n",
       "</table>\n",
       "</div>"
      ],
      "text/plain": [
       "      경매번호 경매종류  참여순서    투자자ID                투자일시  투자금액금액  투자성사여부  입찰이자율  \\\n",
       "0  A8C32F3   개인     1  UAEB30A 2007-05-29 08:53:31   20000       0   13.0   \n",
       "1  A8C32F3   개인     2  U886072 2007-05-28 14:10:45   20000       0   20.0   \n",
       "2  A8C32F3   개인     3  U8A803C 2007-05-28 14:09:18   20000       0   15.0   \n",
       "3  A8C32F3   개인     4  U886072 2007-05-28 14:04:55   20000       0   20.0   \n",
       "4  AAD65CE   개인     1  U4E8DF4 2007-06-01 11:26:25   20000       0    7.0   \n",
       "\n",
       "   오토비딩  미투비딩갑  미투비딩을  \n",
       "0     0      0      0  \n",
       "1     0      0      0  \n",
       "2     0      0      0  \n",
       "3     0      0      0  \n",
       "4     0      0      0  "
      ]
     },
     "execution_count": 9,
     "metadata": {},
     "output_type": "execute_result"
    }
   ],
   "source": [
    "join = pd.read_excel('C:\\\\GitHub\\\\sdii_datasci\\\\sdii-datasci\\\\join.xlsx')\n",
    "join.head()"
   ]
  },
  {
   "cell_type": "code",
   "execution_count": 3,
   "metadata": {},
   "outputs": [
    {
     "data": {
      "text/html": [
       "<div>\n",
       "<style scoped>\n",
       "    .dataframe tbody tr th:only-of-type {\n",
       "        vertical-align: middle;\n",
       "    }\n",
       "\n",
       "    .dataframe tbody tr th {\n",
       "        vertical-align: top;\n",
       "    }\n",
       "\n",
       "    .dataframe thead th {\n",
       "        text-align: right;\n",
       "    }\n",
       "</style>\n",
       "<table border=\"1\" class=\"dataframe\">\n",
       "  <thead>\n",
       "    <tr style=\"text-align: right;\">\n",
       "      <th></th>\n",
       "      <th>경매번호</th>\n",
       "      <th>자금모집시작일</th>\n",
       "      <th>자금모집종료일</th>\n",
       "      <th>대출자ID</th>\n",
       "      <th>대출신청금액</th>\n",
       "      <th>상환기간</th>\n",
       "      <th>대출자 제시 연 이자율</th>\n",
       "      <th>매칭방식</th>\n",
       "      <th>대출용도</th>\n",
       "      <th>투자모집 금액</th>\n",
       "      <th>...</th>\n",
       "      <th>주거형태</th>\n",
       "      <th>거주지역</th>\n",
       "      <th>직종</th>\n",
       "      <th>직장세부</th>\n",
       "      <th>혼인상태</th>\n",
       "      <th>동거인수</th>\n",
       "      <th>주거지명의</th>\n",
       "      <th>차량소유</th>\n",
       "      <th>개인회생</th>\n",
       "      <th>Q&amp;A수 게시물 수</th>\n",
       "    </tr>\n",
       "  </thead>\n",
       "  <tbody>\n",
       "    <tr>\n",
       "      <th>0</th>\n",
       "      <td>ADBB538</td>\n",
       "      <td>2007-05-28 05:00:35</td>\n",
       "      <td>2007-06-30 12:00:00</td>\n",
       "      <td>UE799D6</td>\n",
       "      <td>100</td>\n",
       "      <td>3</td>\n",
       "      <td>25.0</td>\n",
       "      <td>1</td>\n",
       "      <td>NaN</td>\n",
       "      <td>0.0</td>\n",
       "      <td>...</td>\n",
       "      <td>NaN</td>\n",
       "      <td>서울 서초구 방배동</td>\n",
       "      <td>일반회사원</td>\n",
       "      <td>NaN</td>\n",
       "      <td>0</td>\n",
       "      <td>0</td>\n",
       "      <td>NaN</td>\n",
       "      <td>0</td>\n",
       "      <td>0</td>\n",
       "      <td>0</td>\n",
       "    </tr>\n",
       "    <tr>\n",
       "      <th>1</th>\n",
       "      <td>A6C8F3E</td>\n",
       "      <td>2007-05-28 05:21:12</td>\n",
       "      <td>2007-09-01 12:00:00</td>\n",
       "      <td>UE799D6</td>\n",
       "      <td>100</td>\n",
       "      <td>12</td>\n",
       "      <td>29.0</td>\n",
       "      <td>1</td>\n",
       "      <td>NaN</td>\n",
       "      <td>0.0</td>\n",
       "      <td>...</td>\n",
       "      <td>NaN</td>\n",
       "      <td>서울 서초구 방배동</td>\n",
       "      <td>일반회사원</td>\n",
       "      <td>NaN</td>\n",
       "      <td>0</td>\n",
       "      <td>0</td>\n",
       "      <td>NaN</td>\n",
       "      <td>0</td>\n",
       "      <td>0</td>\n",
       "      <td>0</td>\n",
       "    </tr>\n",
       "    <tr>\n",
       "      <th>2</th>\n",
       "      <td>A8C32F3</td>\n",
       "      <td>2007-05-28 05:24:10</td>\n",
       "      <td>2007-09-01 12:00:00</td>\n",
       "      <td>UE799D6</td>\n",
       "      <td>200</td>\n",
       "      <td>12</td>\n",
       "      <td>29.0</td>\n",
       "      <td>1</td>\n",
       "      <td>NaN</td>\n",
       "      <td>0.0</td>\n",
       "      <td>...</td>\n",
       "      <td>NaN</td>\n",
       "      <td>서울 서초구 방배동</td>\n",
       "      <td>일반회사원</td>\n",
       "      <td>NaN</td>\n",
       "      <td>0</td>\n",
       "      <td>0</td>\n",
       "      <td>NaN</td>\n",
       "      <td>0</td>\n",
       "      <td>0</td>\n",
       "      <td>0</td>\n",
       "    </tr>\n",
       "    <tr>\n",
       "      <th>3</th>\n",
       "      <td>AAD65CE</td>\n",
       "      <td>2007-05-28 09:44:38</td>\n",
       "      <td>2007-06-01 12:00:00</td>\n",
       "      <td>UB3D977</td>\n",
       "      <td>100</td>\n",
       "      <td>3</td>\n",
       "      <td>7.0</td>\n",
       "      <td>1</td>\n",
       "      <td>NaN</td>\n",
       "      <td>0.0</td>\n",
       "      <td>...</td>\n",
       "      <td>NaN</td>\n",
       "      <td>NaN</td>\n",
       "      <td>NaN</td>\n",
       "      <td>NaN</td>\n",
       "      <td>0</td>\n",
       "      <td>0</td>\n",
       "      <td>NaN</td>\n",
       "      <td>0</td>\n",
       "      <td>0</td>\n",
       "      <td>6</td>\n",
       "    </tr>\n",
       "    <tr>\n",
       "      <th>4</th>\n",
       "      <td>A22DEE1</td>\n",
       "      <td>2007-05-28 09:57:30</td>\n",
       "      <td>2007-06-29 12:00:00</td>\n",
       "      <td>UEA8D32</td>\n",
       "      <td>100</td>\n",
       "      <td>3</td>\n",
       "      <td>6.0</td>\n",
       "      <td>1</td>\n",
       "      <td>NaN</td>\n",
       "      <td>0.0</td>\n",
       "      <td>...</td>\n",
       "      <td>NaN</td>\n",
       "      <td>NaN</td>\n",
       "      <td>NaN</td>\n",
       "      <td>NaN</td>\n",
       "      <td>0</td>\n",
       "      <td>0</td>\n",
       "      <td>NaN</td>\n",
       "      <td>0</td>\n",
       "      <td>0</td>\n",
       "      <td>7</td>\n",
       "    </tr>\n",
       "  </tbody>\n",
       "</table>\n",
       "<p>5 rows × 39 columns</p>\n",
       "</div>"
      ],
      "text/plain": [
       "      경매번호             자금모집시작일             자금모집종료일    대출자ID  대출신청금액  상환기간  \\\n",
       "0  ADBB538 2007-05-28 05:00:35 2007-06-30 12:00:00  UE799D6     100     3   \n",
       "1  A6C8F3E 2007-05-28 05:21:12 2007-09-01 12:00:00  UE799D6     100    12   \n",
       "2  A8C32F3 2007-05-28 05:24:10 2007-09-01 12:00:00  UE799D6     200    12   \n",
       "3  AAD65CE 2007-05-28 09:44:38 2007-06-01 12:00:00  UB3D977     100     3   \n",
       "4  A22DEE1 2007-05-28 09:57:30 2007-06-29 12:00:00  UEA8D32     100     3   \n",
       "\n",
       "   대출자 제시 연 이자율  매칭방식 대출용도  투자모집 금액  ...  주거형태        거주지역     직종  직장세부  혼인상태  \\\n",
       "0          25.0     1  NaN      0.0  ...   NaN  서울 서초구 방배동  일반회사원   NaN     0   \n",
       "1          29.0     1  NaN      0.0  ...   NaN  서울 서초구 방배동  일반회사원   NaN     0   \n",
       "2          29.0     1  NaN      0.0  ...   NaN  서울 서초구 방배동  일반회사원   NaN     0   \n",
       "3           7.0     1  NaN      0.0  ...   NaN         NaN    NaN   NaN     0   \n",
       "4           6.0     1  NaN      0.0  ...   NaN         NaN    NaN   NaN     0   \n",
       "\n",
       "   동거인수  주거지명의  차량소유  개인회생  Q&A수 게시물 수  \n",
       "0     0    NaN     0     0           0  \n",
       "1     0    NaN     0     0           0  \n",
       "2     0    NaN     0     0           0  \n",
       "3     0    NaN     0     0           6  \n",
       "4     0    NaN     0     0           7  \n",
       "\n",
       "[5 rows x 39 columns]"
      ]
     },
     "execution_count": 3,
     "metadata": {},
     "output_type": "execute_result"
    }
   ],
   "source": [
    "p2p = pd.read_excel('C:\\\\GitHub\\\\sdii_datasci\\\\sdii-datasci\\\\p2p.xlsx')\n",
    "p2p.head()"
   ]
  },
  {
   "cell_type": "code",
   "execution_count": 4,
   "metadata": {},
   "outputs": [
    {
     "data": {
      "text/html": [
       "<div>\n",
       "<style scoped>\n",
       "    .dataframe tbody tr th:only-of-type {\n",
       "        vertical-align: middle;\n",
       "    }\n",
       "\n",
       "    .dataframe tbody tr th {\n",
       "        vertical-align: top;\n",
       "    }\n",
       "\n",
       "    .dataframe thead th {\n",
       "        text-align: right;\n",
       "    }\n",
       "</style>\n",
       "<table border=\"1\" class=\"dataframe\">\n",
       "  <thead>\n",
       "    <tr style=\"text-align: right;\">\n",
       "      <th></th>\n",
       "      <th>경매번호</th>\n",
       "      <th>회차</th>\n",
       "      <th>기일</th>\n",
       "      <th>원금</th>\n",
       "      <th>이자</th>\n",
       "      <th>잔액</th>\n",
       "      <th>입금일</th>\n",
       "      <th>입금원금</th>\n",
       "      <th>입금이자</th>\n",
       "      <th>입금후잔액</th>\n",
       "    </tr>\n",
       "  </thead>\n",
       "  <tbody>\n",
       "    <tr>\n",
       "      <th>0</th>\n",
       "      <td>A8182D3</td>\n",
       "      <td>1</td>\n",
       "      <td>2007-07-01 23:50:00</td>\n",
       "      <td>326485</td>\n",
       "      <td>20833</td>\n",
       "      <td>673515</td>\n",
       "      <td>2007-07-01 22:40:06</td>\n",
       "      <td>326561</td>\n",
       "      <td>20514</td>\n",
       "      <td>673439</td>\n",
       "    </tr>\n",
       "    <tr>\n",
       "      <th>1</th>\n",
       "      <td>A8182D3</td>\n",
       "      <td>2</td>\n",
       "      <td>2007-08-01 23:50:00</td>\n",
       "      <td>333286</td>\n",
       "      <td>14032</td>\n",
       "      <td>340229</td>\n",
       "      <td>2007-07-25 12:48:28</td>\n",
       "      <td>673439</td>\n",
       "      <td>5390</td>\n",
       "      <td>0</td>\n",
       "    </tr>\n",
       "    <tr>\n",
       "      <th>2</th>\n",
       "      <td>AD2C091</td>\n",
       "      <td>1</td>\n",
       "      <td>2007-07-05 23:50:00</td>\n",
       "      <td>72829</td>\n",
       "      <td>24167</td>\n",
       "      <td>927171</td>\n",
       "      <td>2007-07-05 23:15:19</td>\n",
       "      <td>73618</td>\n",
       "      <td>22308</td>\n",
       "      <td>926382</td>\n",
       "    </tr>\n",
       "    <tr>\n",
       "      <th>3</th>\n",
       "      <td>AD2C091</td>\n",
       "      <td>2</td>\n",
       "      <td>2007-08-05 23:50:00</td>\n",
       "      <td>74589</td>\n",
       "      <td>22407</td>\n",
       "      <td>852582</td>\n",
       "      <td>2007-08-05 22:05:24</td>\n",
       "      <td>73618</td>\n",
       "      <td>20678</td>\n",
       "      <td>851134</td>\n",
       "    </tr>\n",
       "    <tr>\n",
       "      <th>4</th>\n",
       "      <td>AD2C091</td>\n",
       "      <td>3</td>\n",
       "      <td>2007-09-05 23:50:00</td>\n",
       "      <td>76392</td>\n",
       "      <td>20604</td>\n",
       "      <td>776190</td>\n",
       "      <td>2007-09-05 12:00:01</td>\n",
       "      <td>76922</td>\n",
       "      <td>19004</td>\n",
       "      <td>774212</td>\n",
       "    </tr>\n",
       "  </tbody>\n",
       "</table>\n",
       "</div>"
      ],
      "text/plain": [
       "      경매번호  회차                  기일      원금     이자      잔액                 입금일  \\\n",
       "0  A8182D3   1 2007-07-01 23:50:00  326485  20833  673515 2007-07-01 22:40:06   \n",
       "1  A8182D3   2 2007-08-01 23:50:00  333286  14032  340229 2007-07-25 12:48:28   \n",
       "2  AD2C091   1 2007-07-05 23:50:00   72829  24167  927171 2007-07-05 23:15:19   \n",
       "3  AD2C091   2 2007-08-05 23:50:00   74589  22407  852582 2007-08-05 22:05:24   \n",
       "4  AD2C091   3 2007-09-05 23:50:00   76392  20604  776190 2007-09-05 12:00:01   \n",
       "\n",
       "     입금원금   입금이자   입금후잔액  \n",
       "0  326561  20514  673439  \n",
       "1  673439   5390       0  \n",
       "2   73618  22308  926382  \n",
       "3   73618  20678  851134  \n",
       "4   76922  19004  774212  "
      ]
     },
     "execution_count": 4,
     "metadata": {},
     "output_type": "execute_result"
    }
   ],
   "source": [
    "p2p_refund = pd.read_excel('C:\\\\GitHub\\\\sdii_datasci\\\\sdii-datasci\\\\p2p_refund.xlsx')\n",
    "p2p_refund.head()"
   ]
  },
  {
   "cell_type": "code",
   "execution_count": 6,
   "metadata": {},
   "outputs": [
    {
     "data": {
      "text/html": [
       "<div>\n",
       "<style scoped>\n",
       "    .dataframe tbody tr th:only-of-type {\n",
       "        vertical-align: middle;\n",
       "    }\n",
       "\n",
       "    .dataframe tbody tr th {\n",
       "        vertical-align: top;\n",
       "    }\n",
       "\n",
       "    .dataframe thead th {\n",
       "        text-align: right;\n",
       "    }\n",
       "</style>\n",
       "<table border=\"1\" class=\"dataframe\">\n",
       "  <thead>\n",
       "    <tr style=\"text-align: right;\">\n",
       "      <th></th>\n",
       "      <th>투자자ID</th>\n",
       "      <th>가입일</th>\n",
       "      <th>페이스북로그인</th>\n",
       "      <th>성별</th>\n",
       "      <th>나이</th>\n",
       "      <th>오토비드사용</th>\n",
       "      <th>미투비드갑사용</th>\n",
       "      <th>대부회원 여부</th>\n",
       "    </tr>\n",
       "  </thead>\n",
       "  <tbody>\n",
       "    <tr>\n",
       "      <th>0</th>\n",
       "      <td>U465105</td>\n",
       "      <td>2007-05-04 23:58:02</td>\n",
       "      <td>0</td>\n",
       "      <td>1.0</td>\n",
       "      <td>45.0</td>\n",
       "      <td>0</td>\n",
       "      <td>0</td>\n",
       "      <td>0</td>\n",
       "    </tr>\n",
       "    <tr>\n",
       "      <th>1</th>\n",
       "      <td>UE799D6</td>\n",
       "      <td>2007-05-07 08:06:29</td>\n",
       "      <td>0</td>\n",
       "      <td>1.0</td>\n",
       "      <td>44.0</td>\n",
       "      <td>0</td>\n",
       "      <td>0</td>\n",
       "      <td>0</td>\n",
       "    </tr>\n",
       "    <tr>\n",
       "      <th>2</th>\n",
       "      <td>U66D68A</td>\n",
       "      <td>2007-05-09 03:35:08</td>\n",
       "      <td>0</td>\n",
       "      <td>2.0</td>\n",
       "      <td>38.0</td>\n",
       "      <td>0</td>\n",
       "      <td>0</td>\n",
       "      <td>0</td>\n",
       "    </tr>\n",
       "    <tr>\n",
       "      <th>3</th>\n",
       "      <td>UF4C400</td>\n",
       "      <td>2007-05-09 22:28:49</td>\n",
       "      <td>0</td>\n",
       "      <td>1.0</td>\n",
       "      <td>50.0</td>\n",
       "      <td>0</td>\n",
       "      <td>0</td>\n",
       "      <td>0</td>\n",
       "    </tr>\n",
       "    <tr>\n",
       "      <th>4</th>\n",
       "      <td>U1C5442</td>\n",
       "      <td>2007-05-10 15:32:23</td>\n",
       "      <td>0</td>\n",
       "      <td>1.0</td>\n",
       "      <td>44.0</td>\n",
       "      <td>0</td>\n",
       "      <td>0</td>\n",
       "      <td>0</td>\n",
       "    </tr>\n",
       "  </tbody>\n",
       "</table>\n",
       "</div>"
      ],
      "text/plain": [
       "     투자자ID                 가입일  페이스북로그인   성별    나이  오토비드사용  미투비드갑사용  대부회원 여부\n",
       "0  U465105 2007-05-04 23:58:02        0  1.0  45.0       0        0        0\n",
       "1  UE799D6 2007-05-07 08:06:29        0  1.0  44.0       0        0        0\n",
       "2  U66D68A 2007-05-09 03:35:08        0  2.0  38.0       0        0        0\n",
       "3  UF4C400 2007-05-09 22:28:49        0  1.0  50.0       0        0        0\n",
       "4  U1C5442 2007-05-10 15:32:23        0  1.0  44.0       0        0        0"
      ]
     },
     "execution_count": 6,
     "metadata": {},
     "output_type": "execute_result"
    }
   ],
   "source": [
    "user = pd.read_excel('C:\\\\GitHub\\\\sdii_datasci\\\\sdii-datasci\\\\user.xlsx')\n",
    "user.head()"
   ]
  },
  {
   "cell_type": "code",
   "execution_count": 10,
   "metadata": {},
   "outputs": [
    {
     "name": "stdout",
     "output_type": "stream",
     "text": [
      "<class 'pandas.core.frame.DataFrame'>\n",
      "RangeIndex: 245396 entries, 0 to 245395\n",
      "Data columns (total 11 columns):\n",
      " #   Column  Non-Null Count   Dtype         \n",
      "---  ------  --------------   -----         \n",
      " 0   경매번호    245396 non-null  object        \n",
      " 1   경매종류    245396 non-null  object        \n",
      " 2   참여순서    245396 non-null  int64         \n",
      " 3   투자자ID   245396 non-null  object        \n",
      " 4   투자일시    245396 non-null  datetime64[ns]\n",
      " 5   투자금액금액  245396 non-null  int64         \n",
      " 6   투자성사여부  245396 non-null  int64         \n",
      " 7   입찰이자율   245396 non-null  float64       \n",
      " 8   오토비딩    245396 non-null  int64         \n",
      " 9   미투비딩갑   245396 non-null  int64         \n",
      " 10  미투비딩을   245396 non-null  int64         \n",
      "dtypes: datetime64[ns](1), float64(1), int64(6), object(3)\n",
      "memory usage: 20.6+ MB\n"
     ]
    }
   ],
   "source": [
    "join.info()"
   ]
  },
  {
   "cell_type": "code",
   "execution_count": 11,
   "metadata": {},
   "outputs": [
    {
     "name": "stdout",
     "output_type": "stream",
     "text": [
      "<class 'pandas.core.frame.DataFrame'>\n",
      "RangeIndex: 26855 entries, 0 to 26854\n",
      "Data columns (total 39 columns):\n",
      " #   Column        Non-Null Count  Dtype         \n",
      "---  ------        --------------  -----         \n",
      " 0   경매번호          26855 non-null  object        \n",
      " 1   자금모집시작일       26855 non-null  datetime64[ns]\n",
      " 2   자금모집종료일       26855 non-null  datetime64[ns]\n",
      " 3   대출자ID         26855 non-null  object        \n",
      " 4   대출신청금액        26855 non-null  int64         \n",
      " 5   상환기간          26855 non-null  int64         \n",
      " 6   대출자 제시 연 이자율  26855 non-null  float64       \n",
      " 7   매칭방식          26855 non-null  int64         \n",
      " 8   대출용도          14437 non-null  object        \n",
      " 9   투자모집 금액       26855 non-null  float64       \n",
      " 10  투자모집 성공여부     26855 non-null  int64         \n",
      " 11  투자참여인원수       26855 non-null  int64         \n",
      " 12  투자모집(오토비드)    26855 non-null  int64         \n",
      " 13  투자모집(미투비드)    26855 non-null  int64         \n",
      " 14  최종약정이자율       26855 non-null  float64       \n",
      " 15  신용보고서         26855 non-null  int64         \n",
      " 16  소득보고서         26855 non-null  int64         \n",
      " 17  핸드폰번호         26855 non-null  int64         \n",
      " 18  집전화번호         26855 non-null  int64         \n",
      " 19  회사전화번호        26855 non-null  int64         \n",
      " 20  개인정보서류        26855 non-null  int64         \n",
      " 21  월소득(만원)       26855 non-null  int64         \n",
      " 22  월지출(만원)       26855 non-null  float64       \n",
      " 23  상환후여유자금(만원)   26855 non-null  int64         \n",
      " 24  성별            26855 non-null  int64         \n",
      " 25  나이            24980 non-null  float64       \n",
      " 26  사연길이          26855 non-null  int64         \n",
      " 27  추가글 개수        26855 non-null  int64         \n",
      " 28  월지출 상세내역      13060 non-null  object        \n",
      " 29  주거형태          14221 non-null  object        \n",
      " 30  거주지역          24462 non-null  object        \n",
      " 31  직종            23321 non-null  object        \n",
      " 32  직장세부          20230 non-null  object        \n",
      " 33  혼인상태          26855 non-null  int64         \n",
      " 34  동거인수          26855 non-null  int64         \n",
      " 35  주거지명의         14180 non-null  object        \n",
      " 36  차량소유          26855 non-null  int64         \n",
      " 37  개인회생          26855 non-null  int64         \n",
      " 38  Q&A수 게시물 수    26855 non-null  int64         \n",
      "dtypes: datetime64[ns](2), float64(5), int64(23), object(9)\n",
      "memory usage: 8.0+ MB\n"
     ]
    }
   ],
   "source": [
    "p2p.info()"
   ]
  },
  {
   "cell_type": "code",
   "execution_count": 12,
   "metadata": {},
   "outputs": [
    {
     "name": "stdout",
     "output_type": "stream",
     "text": [
      "<class 'pandas.core.frame.DataFrame'>\n",
      "RangeIndex: 22163 entries, 0 to 22162\n",
      "Data columns (total 10 columns):\n",
      " #   Column  Non-Null Count  Dtype         \n",
      "---  ------  --------------  -----         \n",
      " 0   경매번호    22163 non-null  object        \n",
      " 1   회차      22163 non-null  int64         \n",
      " 2   기일      22163 non-null  datetime64[ns]\n",
      " 3   원금      22163 non-null  int64         \n",
      " 4   이자      22163 non-null  int64         \n",
      " 5   잔액      22163 non-null  int64         \n",
      " 6   입금일     20165 non-null  datetime64[ns]\n",
      " 7   입금원금    22163 non-null  int64         \n",
      " 8   입금이자    22163 non-null  int64         \n",
      " 9   입금후잔액   22163 non-null  int64         \n",
      "dtypes: datetime64[ns](2), int64(7), object(1)\n",
      "memory usage: 1.7+ MB\n"
     ]
    }
   ],
   "source": [
    "p2p_refund.info()"
   ]
  },
  {
   "cell_type": "code",
   "execution_count": 13,
   "metadata": {},
   "outputs": [
    {
     "name": "stdout",
     "output_type": "stream",
     "text": [
      "<class 'pandas.core.frame.DataFrame'>\n",
      "RangeIndex: 78944 entries, 0 to 78943\n",
      "Data columns (total 8 columns):\n",
      " #   Column   Non-Null Count  Dtype         \n",
      "---  ------   --------------  -----         \n",
      " 0   투자자ID    78944 non-null  object        \n",
      " 1   가입일      78944 non-null  datetime64[ns]\n",
      " 2   페이스북로그인  78944 non-null  int64         \n",
      " 3   성별       78708 non-null  float64       \n",
      " 4   나이       78708 non-null  float64       \n",
      " 5   오토비드사용   78944 non-null  int64         \n",
      " 6   미투비드갑사용  78944 non-null  int64         \n",
      " 7   대부회원 여부  78944 non-null  int64         \n",
      "dtypes: datetime64[ns](1), float64(2), int64(4), object(1)\n",
      "memory usage: 4.8+ MB\n"
     ]
    }
   ],
   "source": [
    "user.info()"
   ]
  },
  {
   "cell_type": "code",
   "execution_count": 15,
   "metadata": {},
   "outputs": [
    {
     "data": {
      "text/plain": [
       "3215"
      ]
     },
     "execution_count": 15,
     "metadata": {},
     "output_type": "execute_result"
    }
   ],
   "source": [
    "a = join['경매번호'].nunique()\n",
    "a"
   ]
  },
  {
   "cell_type": "code",
   "execution_count": 16,
   "metadata": {},
   "outputs": [
    {
     "data": {
      "text/plain": [
       "26830"
      ]
     },
     "execution_count": 16,
     "metadata": {},
     "output_type": "execute_result"
    }
   ],
   "source": [
    "b = p2p['경매번호'].nunique()\n",
    "b"
   ]
  },
  {
   "cell_type": "code",
   "execution_count": 17,
   "metadata": {},
   "outputs": [
    {
     "data": {
      "text/plain": [
       "2156"
      ]
     },
     "execution_count": 17,
     "metadata": {},
     "output_type": "execute_result"
    }
   ],
   "source": [
    "c = p2p_refund['경매번호'].nunique()\n",
    "c"
   ]
  },
  {
   "cell_type": "code",
   "execution_count": 22,
   "metadata": {},
   "outputs": [
    {
     "data": {
      "text/plain": [
       "array([0, 1], dtype=int64)"
      ]
     },
     "execution_count": 22,
     "metadata": {},
     "output_type": "execute_result"
    }
   ],
   "source": [
    "d = join['투자성사여부'].unique()\n",
    "d"
   ]
  },
  {
   "cell_type": "code",
   "execution_count": 24,
   "metadata": {},
   "outputs": [
    {
     "data": {
      "text/plain": [
       "투자성사여부\n",
       "0     10168\n",
       "1    235228\n",
       "dtype: int64"
      ]
     },
     "execution_count": 24,
     "metadata": {},
     "output_type": "execute_result"
    }
   ],
   "source": [
    "join_ab = join.groupby(['투자성사여부']).size()\n",
    "join_ab"
   ]
  },
  {
   "cell_type": "code",
   "execution_count": 26,
   "metadata": {},
   "outputs": [
    {
     "data": {
      "text/plain": [
       "투자모집 성공여부\n",
       "0    24760\n",
       "1     2095\n",
       "dtype: int64"
      ]
     },
     "execution_count": 26,
     "metadata": {},
     "output_type": "execute_result"
    }
   ],
   "source": [
    "p2p_ab = p2p.groupby(['투자모집 성공여부']).size()\n",
    "p2p_ab"
   ]
  },
  {
   "cell_type": "code",
   "execution_count": 27,
   "metadata": {},
   "outputs": [
    {
     "data": {
      "text/plain": [
       "11163"
      ]
     },
     "execution_count": 27,
     "metadata": {},
     "output_type": "execute_result"
    }
   ],
   "source": [
    "p2p_abc = p2p['대출자ID'].nunique()\n",
    "p2p_abc"
   ]
  },
  {
   "cell_type": "code",
   "execution_count": 28,
   "metadata": {},
   "outputs": [
    {
     "data": {
      "text/plain": [
       "6345"
      ]
     },
     "execution_count": 28,
     "metadata": {},
     "output_type": "execute_result"
    }
   ],
   "source": [
    "join_abc = join['투자자ID'].nunique()\n",
    "join_abc"
   ]
  },
  {
   "cell_type": "code",
   "execution_count": 30,
   "metadata": {},
   "outputs": [
    {
     "data": {
      "text/plain": [
       "78759"
      ]
     },
     "execution_count": 30,
     "metadata": {},
     "output_type": "execute_result"
    }
   ],
   "source": [
    "user_abc = user['투자자ID'].nunique()\n",
    "user_abc"
   ]
  },
  {
   "cell_type": "code",
   "execution_count": 32,
   "metadata": {},
   "outputs": [],
   "source": [
    "user_count = user['오토비드사용'] + user['미투비드갑사용']\n",
    "user['투자경험여부'] = user_count"
   ]
  },
  {
   "cell_type": "code",
   "execution_count": 33,
   "metadata": {},
   "outputs": [
    {
     "data": {
      "text/plain": [
       "투자경험여부\n",
       "0    78685\n",
       "1       75\n",
       "Name: 투자자ID, dtype: int64"
      ]
     },
     "execution_count": 33,
     "metadata": {},
     "output_type": "execute_result"
    }
   ],
   "source": [
    "user_invest = user.groupby(['투자경험여부'])['투자자ID'].nunique()\n",
    "user_invest"
   ]
  },
  {
   "cell_type": "code",
   "execution_count": 37,
   "metadata": {},
   "outputs": [
    {
     "data": {
      "text/plain": [
       "오토비드사용\n",
       "0    78912\n",
       "1       32\n",
       "dtype: int64"
      ]
     },
     "execution_count": 37,
     "metadata": {},
     "output_type": "execute_result"
    }
   ],
   "source": [
    "user_d = user.groupby('오토비드사용').size()\n",
    "user_d"
   ]
  },
  {
   "cell_type": "code",
   "execution_count": 38,
   "metadata": {},
   "outputs": [
    {
     "data": {
      "text/plain": [
       "미투비드갑사용\n",
       "0    78901\n",
       "1       43\n",
       "dtype: int64"
      ]
     },
     "execution_count": 38,
     "metadata": {},
     "output_type": "execute_result"
    }
   ],
   "source": [
    "user_e = user.groupby('미투비드갑사용').size()\n",
    "user_e"
   ]
  },
  {
   "cell_type": "code",
   "execution_count": 47,
   "metadata": {},
   "outputs": [
    {
     "data": {
      "text/plain": [
       "pandas.core.series.Series"
      ]
     },
     "execution_count": 47,
     "metadata": {},
     "output_type": "execute_result"
    }
   ],
   "source": [
    "type(join['투자금액금액'])"
   ]
  },
  {
   "cell_type": "code",
   "execution_count": 52,
   "metadata": {},
   "outputs": [
    {
     "data": {
      "text/plain": [
       "0             20000\n",
       "1             20000\n",
       "2             20000\n",
       "3             20000\n",
       "4             20000\n",
       "            ...    \n",
       "245391       100000\n",
       "245392      5000000\n",
       "245393      3000000\n",
       "245394    400000000\n",
       "245395        30000\n",
       "Name: 투자금액금액, Length: 245396, dtype: int64"
      ]
     },
     "execution_count": 52,
     "metadata": {},
     "output_type": "execute_result"
    }
   ],
   "source": [
    "join['투자금액금액']"
   ]
  },
  {
   "cell_type": "code",
   "execution_count": 57,
   "metadata": {},
   "outputs": [
    {
     "name": "stdout",
     "output_type": "stream",
     "text": [
      "1000\n",
      "500000000\n"
     ]
    }
   ],
   "source": [
    "print(join['투자금액금액'].min())\n",
    "print(join['투자금액금액'].max())"
   ]
  },
  {
   "cell_type": "code",
   "execution_count": 61,
   "metadata": {},
   "outputs": [],
   "source": [
    "q1 = join['투자금액금액'].quantile(q = 0.1)\n",
    "q2 = join['투자금액금액'].quantile(q = 0.2)\n",
    "q3 = join['투자금액금액'].quantile(q = 0.3)\n",
    "q4 = join['투자금액금액'].quantile(q = 0.4)\n",
    "q5 = join['투자금액금액'].quantile(q = 0.5)\n",
    "q6 = join['투자금액금액'].quantile(q = 0.6)\n",
    "q7 = join['투자금액금액'].quantile(q = 0.7)\n",
    "q8 = join['투자금액금액'].quantile(q = 0.8)\n",
    "q9 = join['투자금액금액'].quantile(q = 0.9)"
   ]
  },
  {
   "cell_type": "code",
   "execution_count": 62,
   "metadata": {},
   "outputs": [
    {
     "name": "stdout",
     "output_type": "stream",
     "text": [
      "1000.0\n",
      "2000.0\n",
      "3000.0\n",
      "5000.0\n",
      "10000.0\n",
      "12000.0\n",
      "20000.0\n",
      "24000.0\n",
      "50000.0\n"
     ]
    }
   ],
   "source": [
    "print(q1)\n",
    "print(q2)\n",
    "print(q3)\n",
    "print(q4)\n",
    "print(q5)\n",
    "print(q6)\n",
    "print(q7)\n",
    "print(q8)\n",
    "print(q9)"
   ]
  },
  {
   "cell_type": "code",
   "execution_count": 66,
   "metadata": {},
   "outputs": [],
   "source": [
    "def q(x):\n",
    "    if x > q9:\n",
    "        return '상위 10%'\n",
    "    elif x > q8 and x < q9:\n",
    "        return '상위 20%'\n",
    "    else:\n",
    "        return '하위 80%'"
   ]
  },
  {
   "cell_type": "code",
   "execution_count": 73,
   "metadata": {},
   "outputs": [
    {
     "ename": "ValueError",
     "evalue": "The truth value of a Series is ambiguous. Use a.empty, a.bool(), a.item(), a.any() or a.all().",
     "output_type": "error",
     "traceback": [
      "\u001b[1;31m---------------------------------------------------------------------------\u001b[0m",
      "\u001b[1;31mValueError\u001b[0m                                Traceback (most recent call last)",
      "\u001b[1;32m<ipython-input-73-c7031fa0b89d>\u001b[0m in \u001b[0;36m<module>\u001b[1;34m\u001b[0m\n\u001b[1;32m----> 1\u001b[1;33m \u001b[0mqq\u001b[0m \u001b[1;33m=\u001b[0m \u001b[0mjoin\u001b[0m\u001b[1;33m[\u001b[0m\u001b[1;34m'투자금액금액'\u001b[0m\u001b[1;33m]\u001b[0m\u001b[1;33m.\u001b[0m\u001b[0mapply\u001b[0m\u001b[1;33m(\u001b[0m\u001b[0mq\u001b[0m\u001b[1;33m)\u001b[0m\u001b[1;33m\u001b[0m\u001b[1;33m\u001b[0m\u001b[0m\n\u001b[0m",
      "\u001b[1;32m~\\anaconda3\\lib\\site-packages\\pandas\\core\\series.py\u001b[0m in \u001b[0;36mapply\u001b[1;34m(self, func, convert_dtype, args, **kwds)\u001b[0m\n\u001b[0;32m   3846\u001b[0m             \u001b[1;32melse\u001b[0m\u001b[1;33m:\u001b[0m\u001b[1;33m\u001b[0m\u001b[1;33m\u001b[0m\u001b[0m\n\u001b[0;32m   3847\u001b[0m                 \u001b[0mvalues\u001b[0m \u001b[1;33m=\u001b[0m \u001b[0mself\u001b[0m\u001b[1;33m.\u001b[0m\u001b[0mastype\u001b[0m\u001b[1;33m(\u001b[0m\u001b[0mobject\u001b[0m\u001b[1;33m)\u001b[0m\u001b[1;33m.\u001b[0m\u001b[0mvalues\u001b[0m\u001b[1;33m\u001b[0m\u001b[1;33m\u001b[0m\u001b[0m\n\u001b[1;32m-> 3848\u001b[1;33m                 \u001b[0mmapped\u001b[0m \u001b[1;33m=\u001b[0m \u001b[0mlib\u001b[0m\u001b[1;33m.\u001b[0m\u001b[0mmap_infer\u001b[0m\u001b[1;33m(\u001b[0m\u001b[0mvalues\u001b[0m\u001b[1;33m,\u001b[0m \u001b[0mf\u001b[0m\u001b[1;33m,\u001b[0m \u001b[0mconvert\u001b[0m\u001b[1;33m=\u001b[0m\u001b[0mconvert_dtype\u001b[0m\u001b[1;33m)\u001b[0m\u001b[1;33m\u001b[0m\u001b[1;33m\u001b[0m\u001b[0m\n\u001b[0m\u001b[0;32m   3849\u001b[0m \u001b[1;33m\u001b[0m\u001b[0m\n\u001b[0;32m   3850\u001b[0m         \u001b[1;32mif\u001b[0m \u001b[0mlen\u001b[0m\u001b[1;33m(\u001b[0m\u001b[0mmapped\u001b[0m\u001b[1;33m)\u001b[0m \u001b[1;32mand\u001b[0m \u001b[0misinstance\u001b[0m\u001b[1;33m(\u001b[0m\u001b[0mmapped\u001b[0m\u001b[1;33m[\u001b[0m\u001b[1;36m0\u001b[0m\u001b[1;33m]\u001b[0m\u001b[1;33m,\u001b[0m \u001b[0mSeries\u001b[0m\u001b[1;33m)\u001b[0m\u001b[1;33m:\u001b[0m\u001b[1;33m\u001b[0m\u001b[1;33m\u001b[0m\u001b[0m\n",
      "\u001b[1;32mpandas\\_libs\\lib.pyx\u001b[0m in \u001b[0;36mpandas._libs.lib.map_infer\u001b[1;34m()\u001b[0m\n",
      "\u001b[1;32m<ipython-input-66-458bdb9c8473>\u001b[0m in \u001b[0;36mq\u001b[1;34m(투자금액금액)\u001b[0m\n\u001b[0;32m      1\u001b[0m \u001b[1;32mdef\u001b[0m \u001b[0mq\u001b[0m\u001b[1;33m(\u001b[0m\u001b[0m투자금액금액\u001b[0m\u001b[1;33m)\u001b[0m\u001b[1;33m:\u001b[0m\u001b[1;33m\u001b[0m\u001b[1;33m\u001b[0m\u001b[0m\n\u001b[1;32m----> 2\u001b[1;33m     \u001b[1;32mif\u001b[0m \u001b[0mjoin\u001b[0m\u001b[1;33m[\u001b[0m\u001b[1;34m'투자금액금액'\u001b[0m\u001b[1;33m]\u001b[0m \u001b[1;33m>\u001b[0m \u001b[0mq9\u001b[0m\u001b[1;33m:\u001b[0m\u001b[1;33m\u001b[0m\u001b[1;33m\u001b[0m\u001b[0m\n\u001b[0m\u001b[0;32m      3\u001b[0m         \u001b[1;32mreturn\u001b[0m \u001b[1;34m'상위 10%'\u001b[0m\u001b[1;33m\u001b[0m\u001b[1;33m\u001b[0m\u001b[0m\n\u001b[0;32m      4\u001b[0m     \u001b[1;32melif\u001b[0m \u001b[0mjoin\u001b[0m\u001b[1;33m[\u001b[0m\u001b[1;34m'투자금액금액'\u001b[0m\u001b[1;33m]\u001b[0m \u001b[1;33m>\u001b[0m \u001b[0mq8\u001b[0m \u001b[1;32mand\u001b[0m \u001b[0mjoin\u001b[0m\u001b[1;33m[\u001b[0m\u001b[1;34m'투자금액금액'\u001b[0m\u001b[1;33m]\u001b[0m \u001b[1;33m<\u001b[0m \u001b[0mq9\u001b[0m\u001b[1;33m:\u001b[0m\u001b[1;33m\u001b[0m\u001b[1;33m\u001b[0m\u001b[0m\n\u001b[0;32m      5\u001b[0m         \u001b[1;32mreturn\u001b[0m \u001b[1;34m'상위 20%'\u001b[0m\u001b[1;33m\u001b[0m\u001b[1;33m\u001b[0m\u001b[0m\n",
      "\u001b[1;32m~\\anaconda3\\lib\\site-packages\\pandas\\core\\generic.py\u001b[0m in \u001b[0;36m__nonzero__\u001b[1;34m(self)\u001b[0m\n\u001b[0;32m   1477\u001b[0m     \u001b[1;32mdef\u001b[0m \u001b[0m__nonzero__\u001b[0m\u001b[1;33m(\u001b[0m\u001b[0mself\u001b[0m\u001b[1;33m)\u001b[0m\u001b[1;33m:\u001b[0m\u001b[1;33m\u001b[0m\u001b[1;33m\u001b[0m\u001b[0m\n\u001b[0;32m   1478\u001b[0m         raise ValueError(\n\u001b[1;32m-> 1479\u001b[1;33m             \u001b[1;34mf\"The truth value of a {type(self).__name__} is ambiguous. \"\u001b[0m\u001b[1;33m\u001b[0m\u001b[1;33m\u001b[0m\u001b[0m\n\u001b[0m\u001b[0;32m   1480\u001b[0m             \u001b[1;34m\"Use a.empty, a.bool(), a.item(), a.any() or a.all().\"\u001b[0m\u001b[1;33m\u001b[0m\u001b[1;33m\u001b[0m\u001b[0m\n\u001b[0;32m   1481\u001b[0m         )\n",
      "\u001b[1;31mValueError\u001b[0m: The truth value of a Series is ambiguous. Use a.empty, a.bool(), a.item(), a.any() or a.all()."
     ]
    }
   ],
   "source": [
    "qq = join['투자금액금액'].apply(q)"
   ]
  },
  {
   "cell_type": "code",
   "execution_count": null,
   "metadata": {},
   "outputs": [],
   "source": []
  }
 ],
 "metadata": {
  "kernelspec": {
   "display_name": "Python 3",
   "language": "python",
   "name": "python3"
  },
  "language_info": {
   "codemirror_mode": {
    "name": "ipython",
    "version": 3
   },
   "file_extension": ".py",
   "mimetype": "text/x-python",
   "name": "python",
   "nbconvert_exporter": "python",
   "pygments_lexer": "ipython3",
   "version": "3.7.6"
  }
 },
 "nbformat": 4,
 "nbformat_minor": 4
}
