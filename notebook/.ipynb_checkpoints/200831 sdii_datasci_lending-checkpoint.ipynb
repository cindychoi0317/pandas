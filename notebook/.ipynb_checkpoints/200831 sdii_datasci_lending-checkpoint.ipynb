{
 "cells": [
  {
   "cell_type": "code",
   "execution_count": 1,
   "metadata": {},
   "outputs": [],
   "source": [
    "import pandas as pd\n",
    "import numpy as np\n",
    "import matplotlib.pyplot as plt\n",
    "import pandasql as ps\n",
    "import seaborn as sns"
   ]
  },
  {
   "cell_type": "code",
   "execution_count": 2,
   "metadata": {},
   "outputs": [
    {
     "data": {
      "text/plain": [
       "Index(['경매번호', '경매종류', '참여순서', '투자자ID', '투자일시', '투자금액금액', '투자성사여부', '입찰이자율',\n",
       "       '오토비딩', '미투비딩갑', '미투비딩을'],\n",
       "      dtype='object')"
      ]
     },
     "execution_count": 2,
     "metadata": {},
     "output_type": "execute_result"
    }
   ],
   "source": [
    "join_kr = pd.read_excel('C:\\\\GitHub\\\\sdii_datasci\\\\sdii-datasci\\\\join.xlsx')\n",
    "join_kr.columns"
   ]
  },
  {
   "cell_type": "code",
   "execution_count": 3,
   "metadata": {},
   "outputs": [
    {
     "data": {
      "text/html": [
       "<div>\n",
       "<style scoped>\n",
       "    .dataframe tbody tr th:only-of-type {\n",
       "        vertical-align: middle;\n",
       "    }\n",
       "\n",
       "    .dataframe tbody tr th {\n",
       "        vertical-align: top;\n",
       "    }\n",
       "\n",
       "    .dataframe thead th {\n",
       "        text-align: right;\n",
       "    }\n",
       "</style>\n",
       "<table border=\"1\" class=\"dataframe\">\n",
       "  <thead>\n",
       "    <tr style=\"text-align: right;\">\n",
       "      <th></th>\n",
       "      <th>0</th>\n",
       "    </tr>\n",
       "  </thead>\n",
       "  <tbody>\n",
       "    <tr>\n",
       "      <th>0</th>\n",
       "      <td>경매번호</td>\n",
       "    </tr>\n",
       "    <tr>\n",
       "      <th>1</th>\n",
       "      <td>경매종류</td>\n",
       "    </tr>\n",
       "    <tr>\n",
       "      <th>2</th>\n",
       "      <td>참여순서</td>\n",
       "    </tr>\n",
       "    <tr>\n",
       "      <th>3</th>\n",
       "      <td>투자자ID</td>\n",
       "    </tr>\n",
       "    <tr>\n",
       "      <th>4</th>\n",
       "      <td>투자일시</td>\n",
       "    </tr>\n",
       "    <tr>\n",
       "      <th>5</th>\n",
       "      <td>투자금액금액</td>\n",
       "    </tr>\n",
       "    <tr>\n",
       "      <th>6</th>\n",
       "      <td>투자성사여부</td>\n",
       "    </tr>\n",
       "    <tr>\n",
       "      <th>7</th>\n",
       "      <td>입찰이자율</td>\n",
       "    </tr>\n",
       "    <tr>\n",
       "      <th>8</th>\n",
       "      <td>오토비딩</td>\n",
       "    </tr>\n",
       "    <tr>\n",
       "      <th>9</th>\n",
       "      <td>미투비딩갑</td>\n",
       "    </tr>\n",
       "    <tr>\n",
       "      <th>10</th>\n",
       "      <td>미투비딩을</td>\n",
       "    </tr>\n",
       "  </tbody>\n",
       "</table>\n",
       "</div>"
      ],
      "text/plain": [
       "         0\n",
       "0     경매번호\n",
       "1     경매종류\n",
       "2     참여순서\n",
       "3    투자자ID\n",
       "4     투자일시\n",
       "5   투자금액금액\n",
       "6   투자성사여부\n",
       "7    입찰이자율\n",
       "8     오토비딩\n",
       "9    미투비딩갑\n",
       "10   미투비딩을"
      ]
     },
     "execution_count": 3,
     "metadata": {},
     "output_type": "execute_result"
    }
   ],
   "source": [
    "kr_col = pd.DataFrame(join_kr.columns.values)\n",
    "kr_col"
   ]
  },
  {
   "cell_type": "code",
   "execution_count": 4,
   "metadata": {},
   "outputs": [
    {
     "data": {
      "text/plain": [
       "array(['a_id', 'a_cat', 'order_bid', 'l_id', 'date_bid', 'amnt_bid',\n",
       "       'fundingsuccess', 'rate_bid', 'autobid', 'metoo_a', 'metoo_b'],\n",
       "      dtype=object)"
      ]
     },
     "execution_count": 4,
     "metadata": {},
     "output_type": "execute_result"
    }
   ],
   "source": [
    "join_new = join_kr\n",
    "join_new.columns = ['a_id', 'a_cat', 'order_bid', 'l_id', 'date_bid', 'amnt_bid', 'fundingsuccess', 'rate_bid', 'autobid', 'metoo_a', 'metoo_b']\n",
    "join_new.columns.values"
   ]
  },
  {
   "cell_type": "code",
   "execution_count": 5,
   "metadata": {},
   "outputs": [
    {
     "data": {
      "text/html": [
       "<div>\n",
       "<style scoped>\n",
       "    .dataframe tbody tr th:only-of-type {\n",
       "        vertical-align: middle;\n",
       "    }\n",
       "\n",
       "    .dataframe tbody tr th {\n",
       "        vertical-align: top;\n",
       "    }\n",
       "\n",
       "    .dataframe thead th {\n",
       "        text-align: right;\n",
       "    }\n",
       "</style>\n",
       "<table border=\"1\" class=\"dataframe\">\n",
       "  <thead>\n",
       "    <tr style=\"text-align: right;\">\n",
       "      <th></th>\n",
       "      <th>0</th>\n",
       "    </tr>\n",
       "  </thead>\n",
       "  <tbody>\n",
       "    <tr>\n",
       "      <th>0</th>\n",
       "      <td>a_id</td>\n",
       "    </tr>\n",
       "    <tr>\n",
       "      <th>1</th>\n",
       "      <td>a_cat</td>\n",
       "    </tr>\n",
       "    <tr>\n",
       "      <th>2</th>\n",
       "      <td>order_bid</td>\n",
       "    </tr>\n",
       "    <tr>\n",
       "      <th>3</th>\n",
       "      <td>l_id</td>\n",
       "    </tr>\n",
       "    <tr>\n",
       "      <th>4</th>\n",
       "      <td>date_bid</td>\n",
       "    </tr>\n",
       "    <tr>\n",
       "      <th>5</th>\n",
       "      <td>amnt_bid</td>\n",
       "    </tr>\n",
       "    <tr>\n",
       "      <th>6</th>\n",
       "      <td>fundingsuccess</td>\n",
       "    </tr>\n",
       "    <tr>\n",
       "      <th>7</th>\n",
       "      <td>rate_bid</td>\n",
       "    </tr>\n",
       "    <tr>\n",
       "      <th>8</th>\n",
       "      <td>autobid</td>\n",
       "    </tr>\n",
       "    <tr>\n",
       "      <th>9</th>\n",
       "      <td>metoo_a</td>\n",
       "    </tr>\n",
       "    <tr>\n",
       "      <th>10</th>\n",
       "      <td>metoo_b</td>\n",
       "    </tr>\n",
       "  </tbody>\n",
       "</table>\n",
       "</div>"
      ],
      "text/plain": [
       "                 0\n",
       "0             a_id\n",
       "1            a_cat\n",
       "2        order_bid\n",
       "3             l_id\n",
       "4         date_bid\n",
       "5         amnt_bid\n",
       "6   fundingsuccess\n",
       "7         rate_bid\n",
       "8          autobid\n",
       "9          metoo_a\n",
       "10         metoo_b"
      ]
     },
     "execution_count": 5,
     "metadata": {},
     "output_type": "execute_result"
    }
   ],
   "source": [
    "en_col = pd.DataFrame(join_new.columns.values)\n",
    "en_col"
   ]
  },
  {
   "cell_type": "code",
   "execution_count": 7,
   "metadata": {},
   "outputs": [
    {
     "data": {
      "text/html": [
       "<div>\n",
       "<style scoped>\n",
       "    .dataframe tbody tr th:only-of-type {\n",
       "        vertical-align: middle;\n",
       "    }\n",
       "\n",
       "    .dataframe tbody tr th {\n",
       "        vertical-align: top;\n",
       "    }\n",
       "\n",
       "    .dataframe thead th {\n",
       "        text-align: right;\n",
       "    }\n",
       "</style>\n",
       "<table border=\"1\" class=\"dataframe\">\n",
       "  <thead>\n",
       "    <tr style=\"text-align: right;\">\n",
       "      <th></th>\n",
       "      <th>0</th>\n",
       "      <th>0</th>\n",
       "    </tr>\n",
       "  </thead>\n",
       "  <tbody>\n",
       "    <tr>\n",
       "      <th>0</th>\n",
       "      <td>경매번호</td>\n",
       "      <td>a_id</td>\n",
       "    </tr>\n",
       "    <tr>\n",
       "      <th>1</th>\n",
       "      <td>경매종류</td>\n",
       "      <td>a_cat</td>\n",
       "    </tr>\n",
       "    <tr>\n",
       "      <th>2</th>\n",
       "      <td>참여순서</td>\n",
       "      <td>order_bid</td>\n",
       "    </tr>\n",
       "    <tr>\n",
       "      <th>3</th>\n",
       "      <td>투자자ID</td>\n",
       "      <td>l_id</td>\n",
       "    </tr>\n",
       "    <tr>\n",
       "      <th>4</th>\n",
       "      <td>투자일시</td>\n",
       "      <td>date_bid</td>\n",
       "    </tr>\n",
       "    <tr>\n",
       "      <th>5</th>\n",
       "      <td>투자금액금액</td>\n",
       "      <td>amnt_bid</td>\n",
       "    </tr>\n",
       "    <tr>\n",
       "      <th>6</th>\n",
       "      <td>투자성사여부</td>\n",
       "      <td>fundingsuccess</td>\n",
       "    </tr>\n",
       "    <tr>\n",
       "      <th>7</th>\n",
       "      <td>입찰이자율</td>\n",
       "      <td>rate_bid</td>\n",
       "    </tr>\n",
       "    <tr>\n",
       "      <th>8</th>\n",
       "      <td>오토비딩</td>\n",
       "      <td>autobid</td>\n",
       "    </tr>\n",
       "    <tr>\n",
       "      <th>9</th>\n",
       "      <td>미투비딩갑</td>\n",
       "      <td>metoo_a</td>\n",
       "    </tr>\n",
       "    <tr>\n",
       "      <th>10</th>\n",
       "      <td>미투비딩을</td>\n",
       "      <td>metoo_b</td>\n",
       "    </tr>\n",
       "  </tbody>\n",
       "</table>\n",
       "</div>"
      ],
      "text/plain": [
       "         0               0\n",
       "0     경매번호            a_id\n",
       "1     경매종류           a_cat\n",
       "2     참여순서       order_bid\n",
       "3    투자자ID            l_id\n",
       "4     투자일시        date_bid\n",
       "5   투자금액금액        amnt_bid\n",
       "6   투자성사여부  fundingsuccess\n",
       "7    입찰이자율        rate_bid\n",
       "8     오토비딩         autobid\n",
       "9    미투비딩갑         metoo_a\n",
       "10   미투비딩을         metoo_b"
      ]
     },
     "execution_count": 7,
     "metadata": {},
     "output_type": "execute_result"
    }
   ],
   "source": [
    "pd.concat([kr_col, en_col], axis = 1)"
   ]
  },
  {
   "cell_type": "code",
   "execution_count": 8,
   "metadata": {},
   "outputs": [
    {
     "data": {
      "text/html": [
       "<div>\n",
       "<style scoped>\n",
       "    .dataframe tbody tr th:only-of-type {\n",
       "        vertical-align: middle;\n",
       "    }\n",
       "\n",
       "    .dataframe tbody tr th {\n",
       "        vertical-align: top;\n",
       "    }\n",
       "\n",
       "    .dataframe thead th {\n",
       "        text-align: right;\n",
       "    }\n",
       "</style>\n",
       "<table border=\"1\" class=\"dataframe\">\n",
       "  <thead>\n",
       "    <tr style=\"text-align: right;\">\n",
       "      <th></th>\n",
       "      <th>a_id</th>\n",
       "      <th>a_cat</th>\n",
       "      <th>order_bid</th>\n",
       "      <th>l_id</th>\n",
       "      <th>date_bid</th>\n",
       "      <th>amnt_bid</th>\n",
       "      <th>fundingsuccess</th>\n",
       "      <th>rate_bid</th>\n",
       "      <th>autobid</th>\n",
       "      <th>metoo_a</th>\n",
       "      <th>metoo_b</th>\n",
       "    </tr>\n",
       "  </thead>\n",
       "  <tbody>\n",
       "    <tr>\n",
       "      <th>0</th>\n",
       "      <td>A8C32F3</td>\n",
       "      <td>개인</td>\n",
       "      <td>1</td>\n",
       "      <td>UAEB30A</td>\n",
       "      <td>2007-05-29 08:53:31</td>\n",
       "      <td>20000</td>\n",
       "      <td>0</td>\n",
       "      <td>13.0</td>\n",
       "      <td>0</td>\n",
       "      <td>0</td>\n",
       "      <td>0</td>\n",
       "    </tr>\n",
       "    <tr>\n",
       "      <th>1</th>\n",
       "      <td>A8C32F3</td>\n",
       "      <td>개인</td>\n",
       "      <td>2</td>\n",
       "      <td>U886072</td>\n",
       "      <td>2007-05-28 14:10:45</td>\n",
       "      <td>20000</td>\n",
       "      <td>0</td>\n",
       "      <td>20.0</td>\n",
       "      <td>0</td>\n",
       "      <td>0</td>\n",
       "      <td>0</td>\n",
       "    </tr>\n",
       "    <tr>\n",
       "      <th>2</th>\n",
       "      <td>A8C32F3</td>\n",
       "      <td>개인</td>\n",
       "      <td>3</td>\n",
       "      <td>U8A803C</td>\n",
       "      <td>2007-05-28 14:09:18</td>\n",
       "      <td>20000</td>\n",
       "      <td>0</td>\n",
       "      <td>15.0</td>\n",
       "      <td>0</td>\n",
       "      <td>0</td>\n",
       "      <td>0</td>\n",
       "    </tr>\n",
       "    <tr>\n",
       "      <th>3</th>\n",
       "      <td>A8C32F3</td>\n",
       "      <td>개인</td>\n",
       "      <td>4</td>\n",
       "      <td>U886072</td>\n",
       "      <td>2007-05-28 14:04:55</td>\n",
       "      <td>20000</td>\n",
       "      <td>0</td>\n",
       "      <td>20.0</td>\n",
       "      <td>0</td>\n",
       "      <td>0</td>\n",
       "      <td>0</td>\n",
       "    </tr>\n",
       "    <tr>\n",
       "      <th>4</th>\n",
       "      <td>AAD65CE</td>\n",
       "      <td>개인</td>\n",
       "      <td>1</td>\n",
       "      <td>U4E8DF4</td>\n",
       "      <td>2007-06-01 11:26:25</td>\n",
       "      <td>20000</td>\n",
       "      <td>0</td>\n",
       "      <td>7.0</td>\n",
       "      <td>0</td>\n",
       "      <td>0</td>\n",
       "      <td>0</td>\n",
       "    </tr>\n",
       "  </tbody>\n",
       "</table>\n",
       "</div>"
      ],
      "text/plain": [
       "      a_id a_cat  order_bid     l_id            date_bid  amnt_bid  \\\n",
       "0  A8C32F3    개인          1  UAEB30A 2007-05-29 08:53:31     20000   \n",
       "1  A8C32F3    개인          2  U886072 2007-05-28 14:10:45     20000   \n",
       "2  A8C32F3    개인          3  U8A803C 2007-05-28 14:09:18     20000   \n",
       "3  A8C32F3    개인          4  U886072 2007-05-28 14:04:55     20000   \n",
       "4  AAD65CE    개인          1  U4E8DF4 2007-06-01 11:26:25     20000   \n",
       "\n",
       "   fundingsuccess  rate_bid  autobid  metoo_a  metoo_b  \n",
       "0               0      13.0        0        0        0  \n",
       "1               0      20.0        0        0        0  \n",
       "2               0      15.0        0        0        0  \n",
       "3               0      20.0        0        0        0  \n",
       "4               0       7.0        0        0        0  "
      ]
     },
     "execution_count": 8,
     "metadata": {},
     "output_type": "execute_result"
    }
   ],
   "source": [
    " join_new.head()"
   ]
  },
  {
   "cell_type": "code",
   "execution_count": 9,
   "metadata": {},
   "outputs": [
    {
     "name": "stdout",
     "output_type": "stream",
     "text": [
      "<class 'pandas.core.frame.DataFrame'>\n",
      "RangeIndex: 245396 entries, 0 to 245395\n",
      "Data columns (total 11 columns):\n",
      " #   Column          Non-Null Count   Dtype         \n",
      "---  ------          --------------   -----         \n",
      " 0   a_id            245396 non-null  object        \n",
      " 1   a_cat           245396 non-null  object        \n",
      " 2   order_bid       245396 non-null  int64         \n",
      " 3   l_id            245396 non-null  object        \n",
      " 4   date_bid        245396 non-null  datetime64[ns]\n",
      " 5   amnt_bid        245396 non-null  int64         \n",
      " 6   fundingsuccess  245396 non-null  int64         \n",
      " 7   rate_bid        245396 non-null  float64       \n",
      " 8   autobid         245396 non-null  int64         \n",
      " 9   metoo_a         245396 non-null  int64         \n",
      " 10  metoo_b         245396 non-null  int64         \n",
      "dtypes: datetime64[ns](1), float64(1), int64(6), object(3)\n",
      "memory usage: 20.6+ MB\n"
     ]
    }
   ],
   "source": [
    "join_new.info()"
   ]
  },
  {
   "cell_type": "code",
   "execution_count": 12,
   "metadata": {},
   "outputs": [
    {
     "data": {
      "text/plain": [
       "Index(['경매번호', '회차', '기일', '원금', '이자', '잔액', '입금일', '입금원금', '입금이자', '입금후잔액'], dtype='object')"
      ]
     },
     "execution_count": 12,
     "metadata": {},
     "output_type": "execute_result"
    }
   ],
   "source": [
    "filepath ='C:\\\\GitHub\\\\sdii_datasci\\\\sdii-datasci\\\\'\n",
    "p2p_refund_kr = pd.read_excel(filepath + 'p2p_refund.xlsx') ## check if utf-8 encoded xlsx\n",
    "p2p_refund_kr.columns"
   ]
  },
  {
   "cell_type": "code",
   "execution_count": 23,
   "metadata": {},
   "outputs": [
    {
     "data": {
      "text/plain": [
       "Index(['경매번호', '자금모집시작일', '자금모집종료일', '대출자ID', '대출신청금액', '상환기간', '대출자 제시 연 이자율',\n",
       "       '매칭방식', '대출용도', '투자모집 금액', '투자모집 성공여부', '투자참여인원수', '투자모집(오토비드)',\n",
       "       '투자모집(미투비드)', '최종약정이자율', '신용보고서', '소득보고서', '핸드폰번호', '집전화번호', '회사전화번호',\n",
       "       '개인정보서류', '월소득(만원)', '월지출(만원)', '상환후여유자금(만원)', '성별', '나이', '사연길이',\n",
       "       '추가글 개수', '월지출 상세내역', '주거형태', '거주지역', '직종', '직장세부', '혼인상태', '동거인수',\n",
       "       '주거지명의', '차량소유', '개인회생', 'Q&A수 게시물 수'],\n",
       "      dtype='object')"
      ]
     },
     "execution_count": 23,
     "metadata": {},
     "output_type": "execute_result"
    }
   ],
   "source": [
    "p2p_kr = pd.read_excel(filepath + 'p2p.xlsx')\n",
    "p2p_kr.columns"
   ]
  },
  {
   "cell_type": "code",
   "execution_count": 24,
   "metadata": {},
   "outputs": [
    {
     "data": {
      "text/plain": [
       "array(['a_id', 'date_started', 'date_ended', 'b_id', 'amnt_target',\n",
       "       'pymnt_period', 'rate_asking', 'matching_cat', 'loanpurpose_cat',\n",
       "       'amnt_funded', 'fundsuccess', 'num_lender', 'amnt_autobid',\n",
       "       'amnt_metoo', 'rate_contract', 'cert_credit', 'cert_income',\n",
       "       'm_num', 'h_num', 'w_num', 'cert_profile', 'income_m', 'expense_m',\n",
       "       'extra_after_pymnt', 'gender', 'age', 'length_txt', 'num_addtxt',\n",
       "       'expense_desc', 'h_status', 'region', 'e_status', 'e_desc',\n",
       "       'm_status', 'num_cohab', 'h_ownership', 'v_ownership', 'delinq',\n",
       "       'num_qna'], dtype=object)"
      ]
     },
     "execution_count": 24,
     "metadata": {},
     "output_type": "execute_result"
    }
   ],
   "source": [
    "p2p_new.columns = ['a_id', 'date_started', 'date_ended', 'b_id', 'amnt_target',\n",
    "       'pymnt_period', 'rate_asking', 'matching_cat', 'loanpurpose_cat',\n",
    "       'amnt_funded', 'fundsuccess', 'num_lender', 'amnt_autobid',\n",
    "       'amnt_metoo', 'rate_contract', 'cert_credit', 'cert_income', 'm_num',\n",
    "       'h_num', 'w_num', 'cert_profile', 'income_m', 'expense_m',\n",
    "       'extra_after_pymnt', 'gender', 'age', 'length_txt', 'num_addtxt',\n",
    "       'expense_desc', 'h_status', 'region', 'e_status', 'e_desc', 'm_status',\n",
    "       'num_cohab', 'h_ownership', 'v_ownership', 'delinq', 'num_qna']\n",
    "p2p_new.columns.values"
   ]
  },
  {
   "cell_type": "code",
   "execution_count": 25,
   "metadata": {},
   "outputs": [
    {
     "data": {
      "text/html": [
       "<div>\n",
       "<style scoped>\n",
       "    .dataframe tbody tr th:only-of-type {\n",
       "        vertical-align: middle;\n",
       "    }\n",
       "\n",
       "    .dataframe tbody tr th {\n",
       "        vertical-align: top;\n",
       "    }\n",
       "\n",
       "    .dataframe thead th {\n",
       "        text-align: right;\n",
       "    }\n",
       "</style>\n",
       "<table border=\"1\" class=\"dataframe\">\n",
       "  <thead>\n",
       "    <tr style=\"text-align: right;\">\n",
       "      <th></th>\n",
       "      <th>0</th>\n",
       "      <th>0</th>\n",
       "    </tr>\n",
       "  </thead>\n",
       "  <tbody>\n",
       "    <tr>\n",
       "      <th>0</th>\n",
       "      <td>경매번호</td>\n",
       "      <td>a_id</td>\n",
       "    </tr>\n",
       "    <tr>\n",
       "      <th>1</th>\n",
       "      <td>자금모집시작일</td>\n",
       "      <td>date_started</td>\n",
       "    </tr>\n",
       "    <tr>\n",
       "      <th>2</th>\n",
       "      <td>자금모집종료일</td>\n",
       "      <td>date_ended</td>\n",
       "    </tr>\n",
       "    <tr>\n",
       "      <th>3</th>\n",
       "      <td>대출자ID</td>\n",
       "      <td>b_id</td>\n",
       "    </tr>\n",
       "    <tr>\n",
       "      <th>4</th>\n",
       "      <td>대출신청금액</td>\n",
       "      <td>amnt_target</td>\n",
       "    </tr>\n",
       "    <tr>\n",
       "      <th>5</th>\n",
       "      <td>상환기간</td>\n",
       "      <td>pymnt_period</td>\n",
       "    </tr>\n",
       "    <tr>\n",
       "      <th>6</th>\n",
       "      <td>대출자 제시 연 이자율</td>\n",
       "      <td>rate_asking</td>\n",
       "    </tr>\n",
       "    <tr>\n",
       "      <th>7</th>\n",
       "      <td>매칭방식</td>\n",
       "      <td>matching_cat</td>\n",
       "    </tr>\n",
       "    <tr>\n",
       "      <th>8</th>\n",
       "      <td>대출용도</td>\n",
       "      <td>loanpurpose_cat</td>\n",
       "    </tr>\n",
       "    <tr>\n",
       "      <th>9</th>\n",
       "      <td>투자모집 금액</td>\n",
       "      <td>amnt_funded</td>\n",
       "    </tr>\n",
       "    <tr>\n",
       "      <th>10</th>\n",
       "      <td>투자모집 성공여부</td>\n",
       "      <td>fundsuccess</td>\n",
       "    </tr>\n",
       "    <tr>\n",
       "      <th>11</th>\n",
       "      <td>투자참여인원수</td>\n",
       "      <td>num_lender</td>\n",
       "    </tr>\n",
       "    <tr>\n",
       "      <th>12</th>\n",
       "      <td>투자모집(오토비드)</td>\n",
       "      <td>amnt_autobid</td>\n",
       "    </tr>\n",
       "    <tr>\n",
       "      <th>13</th>\n",
       "      <td>투자모집(미투비드)</td>\n",
       "      <td>amnt_metoo</td>\n",
       "    </tr>\n",
       "    <tr>\n",
       "      <th>14</th>\n",
       "      <td>최종약정이자율</td>\n",
       "      <td>rate_contract</td>\n",
       "    </tr>\n",
       "    <tr>\n",
       "      <th>15</th>\n",
       "      <td>신용보고서</td>\n",
       "      <td>cert_credit</td>\n",
       "    </tr>\n",
       "    <tr>\n",
       "      <th>16</th>\n",
       "      <td>소득보고서</td>\n",
       "      <td>cert_income</td>\n",
       "    </tr>\n",
       "    <tr>\n",
       "      <th>17</th>\n",
       "      <td>핸드폰번호</td>\n",
       "      <td>m_num</td>\n",
       "    </tr>\n",
       "    <tr>\n",
       "      <th>18</th>\n",
       "      <td>집전화번호</td>\n",
       "      <td>h_num</td>\n",
       "    </tr>\n",
       "    <tr>\n",
       "      <th>19</th>\n",
       "      <td>회사전화번호</td>\n",
       "      <td>w_num</td>\n",
       "    </tr>\n",
       "    <tr>\n",
       "      <th>20</th>\n",
       "      <td>개인정보서류</td>\n",
       "      <td>cert_profile</td>\n",
       "    </tr>\n",
       "    <tr>\n",
       "      <th>21</th>\n",
       "      <td>월소득(만원)</td>\n",
       "      <td>income_m</td>\n",
       "    </tr>\n",
       "    <tr>\n",
       "      <th>22</th>\n",
       "      <td>월지출(만원)</td>\n",
       "      <td>expense_m</td>\n",
       "    </tr>\n",
       "    <tr>\n",
       "      <th>23</th>\n",
       "      <td>상환후여유자금(만원)</td>\n",
       "      <td>extra_after_pymnt</td>\n",
       "    </tr>\n",
       "    <tr>\n",
       "      <th>24</th>\n",
       "      <td>성별</td>\n",
       "      <td>gender</td>\n",
       "    </tr>\n",
       "    <tr>\n",
       "      <th>25</th>\n",
       "      <td>나이</td>\n",
       "      <td>age</td>\n",
       "    </tr>\n",
       "    <tr>\n",
       "      <th>26</th>\n",
       "      <td>사연길이</td>\n",
       "      <td>length_txt</td>\n",
       "    </tr>\n",
       "    <tr>\n",
       "      <th>27</th>\n",
       "      <td>추가글 개수</td>\n",
       "      <td>num_addtxt</td>\n",
       "    </tr>\n",
       "    <tr>\n",
       "      <th>28</th>\n",
       "      <td>월지출 상세내역</td>\n",
       "      <td>expense_desc</td>\n",
       "    </tr>\n",
       "    <tr>\n",
       "      <th>29</th>\n",
       "      <td>주거형태</td>\n",
       "      <td>h_status</td>\n",
       "    </tr>\n",
       "    <tr>\n",
       "      <th>30</th>\n",
       "      <td>거주지역</td>\n",
       "      <td>region</td>\n",
       "    </tr>\n",
       "    <tr>\n",
       "      <th>31</th>\n",
       "      <td>직종</td>\n",
       "      <td>e_status</td>\n",
       "    </tr>\n",
       "    <tr>\n",
       "      <th>32</th>\n",
       "      <td>직장세부</td>\n",
       "      <td>e_desc</td>\n",
       "    </tr>\n",
       "    <tr>\n",
       "      <th>33</th>\n",
       "      <td>혼인상태</td>\n",
       "      <td>m_status</td>\n",
       "    </tr>\n",
       "    <tr>\n",
       "      <th>34</th>\n",
       "      <td>동거인수</td>\n",
       "      <td>num_cohab</td>\n",
       "    </tr>\n",
       "    <tr>\n",
       "      <th>35</th>\n",
       "      <td>주거지명의</td>\n",
       "      <td>h_ownership</td>\n",
       "    </tr>\n",
       "    <tr>\n",
       "      <th>36</th>\n",
       "      <td>차량소유</td>\n",
       "      <td>v_ownership</td>\n",
       "    </tr>\n",
       "    <tr>\n",
       "      <th>37</th>\n",
       "      <td>개인회생</td>\n",
       "      <td>delinq</td>\n",
       "    </tr>\n",
       "    <tr>\n",
       "      <th>38</th>\n",
       "      <td>Q&amp;A수 게시물 수</td>\n",
       "      <td>num_qna</td>\n",
       "    </tr>\n",
       "  </tbody>\n",
       "</table>\n",
       "</div>"
      ],
      "text/plain": [
       "               0                  0\n",
       "0           경매번호               a_id\n",
       "1        자금모집시작일       date_started\n",
       "2        자금모집종료일         date_ended\n",
       "3          대출자ID               b_id\n",
       "4         대출신청금액        amnt_target\n",
       "5           상환기간       pymnt_period\n",
       "6   대출자 제시 연 이자율        rate_asking\n",
       "7           매칭방식       matching_cat\n",
       "8           대출용도    loanpurpose_cat\n",
       "9        투자모집 금액        amnt_funded\n",
       "10     투자모집 성공여부        fundsuccess\n",
       "11       투자참여인원수         num_lender\n",
       "12    투자모집(오토비드)       amnt_autobid\n",
       "13    투자모집(미투비드)         amnt_metoo\n",
       "14       최종약정이자율      rate_contract\n",
       "15         신용보고서        cert_credit\n",
       "16         소득보고서        cert_income\n",
       "17         핸드폰번호              m_num\n",
       "18         집전화번호              h_num\n",
       "19        회사전화번호              w_num\n",
       "20        개인정보서류       cert_profile\n",
       "21       월소득(만원)           income_m\n",
       "22       월지출(만원)          expense_m\n",
       "23   상환후여유자금(만원)  extra_after_pymnt\n",
       "24            성별             gender\n",
       "25            나이                age\n",
       "26          사연길이         length_txt\n",
       "27        추가글 개수         num_addtxt\n",
       "28      월지출 상세내역       expense_desc\n",
       "29          주거형태           h_status\n",
       "30          거주지역             region\n",
       "31            직종           e_status\n",
       "32          직장세부             e_desc\n",
       "33          혼인상태           m_status\n",
       "34          동거인수          num_cohab\n",
       "35         주거지명의        h_ownership\n",
       "36          차량소유        v_ownership\n",
       "37          개인회생             delinq\n",
       "38    Q&A수 게시물 수            num_qna"
      ]
     },
     "execution_count": 25,
     "metadata": {},
     "output_type": "execute_result"
    }
   ],
   "source": [
    "pd.concat([pd.DataFrame(p2p_kr.columns), pd.DataFrame(p2p_new.columns.values)], axis = 1)"
   ]
  },
  {
   "cell_type": "code",
   "execution_count": 26,
   "metadata": {},
   "outputs": [
    {
     "name": "stdout",
     "output_type": "stream",
     "text": [
      "<class 'pandas.core.frame.DataFrame'>\n",
      "RangeIndex: 26855 entries, 0 to 26854\n",
      "Data columns (total 39 columns):\n",
      " #   Column             Non-Null Count  Dtype         \n",
      "---  ------             --------------  -----         \n",
      " 0   a_id               26855 non-null  object        \n",
      " 1   date_started       26855 non-null  datetime64[ns]\n",
      " 2   date_ended         26855 non-null  datetime64[ns]\n",
      " 3   b_id               26855 non-null  object        \n",
      " 4   amnt_target        26855 non-null  int64         \n",
      " 5   pymnt_period       26855 non-null  int64         \n",
      " 6   rate_asking        26855 non-null  float64       \n",
      " 7   matching_cat       26855 non-null  int64         \n",
      " 8   loanpurpose_cat    14437 non-null  object        \n",
      " 9   amnt_funded        26855 non-null  float64       \n",
      " 10  fundsuccess        26855 non-null  int64         \n",
      " 11  num_lender         26855 non-null  int64         \n",
      " 12  amnt_autobid       26855 non-null  int64         \n",
      " 13  amnt_metoo         26855 non-null  int64         \n",
      " 14  rate_contract      26855 non-null  float64       \n",
      " 15  cert_credit        26855 non-null  int64         \n",
      " 16  cert_income        26855 non-null  int64         \n",
      " 17  m_num              26855 non-null  int64         \n",
      " 18  h_num              26855 non-null  int64         \n",
      " 19  w_num              26855 non-null  int64         \n",
      " 20  cert_profile       26855 non-null  int64         \n",
      " 21  income_m           26855 non-null  int64         \n",
      " 22  expense_m          26855 non-null  float64       \n",
      " 23  extra_after_pymnt  26855 non-null  int64         \n",
      " 24  gender             26855 non-null  int64         \n",
      " 25  age                24980 non-null  float64       \n",
      " 26  length_txt         26855 non-null  int64         \n",
      " 27  num_addtxt         26855 non-null  int64         \n",
      " 28  expense_desc       13060 non-null  object        \n",
      " 29  h_status           14221 non-null  object        \n",
      " 30  region             24462 non-null  object        \n",
      " 31  e_status           23321 non-null  object        \n",
      " 32  e_desc             20230 non-null  object        \n",
      " 33  m_status           26855 non-null  int64         \n",
      " 34  num_cohab          26855 non-null  int64         \n",
      " 35  h_ownership        14180 non-null  object        \n",
      " 36  v_ownership        26855 non-null  int64         \n",
      " 37  delinq             26855 non-null  int64         \n",
      " 38  num_qna            26855 non-null  int64         \n",
      "dtypes: datetime64[ns](2), float64(5), int64(23), object(9)\n",
      "memory usage: 8.0+ MB\n"
     ]
    }
   ],
   "source": [
    "p2p_new.info()"
   ]
  },
  {
   "cell_type": "code",
   "execution_count": 27,
   "metadata": {},
   "outputs": [
    {
     "data": {
      "text/html": [
       "<div>\n",
       "<style scoped>\n",
       "    .dataframe tbody tr th:only-of-type {\n",
       "        vertical-align: middle;\n",
       "    }\n",
       "\n",
       "    .dataframe tbody tr th {\n",
       "        vertical-align: top;\n",
       "    }\n",
       "\n",
       "    .dataframe thead th {\n",
       "        text-align: right;\n",
       "    }\n",
       "</style>\n",
       "<table border=\"1\" class=\"dataframe\">\n",
       "  <thead>\n",
       "    <tr style=\"text-align: right;\">\n",
       "      <th></th>\n",
       "      <th>a_id</th>\n",
       "      <th>date_started</th>\n",
       "      <th>date_ended</th>\n",
       "      <th>b_id</th>\n",
       "      <th>amnt_target</th>\n",
       "      <th>pymnt_period</th>\n",
       "      <th>rate_asking</th>\n",
       "      <th>matching_cat</th>\n",
       "      <th>loanpurpose_cat</th>\n",
       "      <th>amnt_funded</th>\n",
       "      <th>...</th>\n",
       "      <th>h_status</th>\n",
       "      <th>region</th>\n",
       "      <th>e_status</th>\n",
       "      <th>e_desc</th>\n",
       "      <th>m_status</th>\n",
       "      <th>num_cohab</th>\n",
       "      <th>h_ownership</th>\n",
       "      <th>v_ownership</th>\n",
       "      <th>delinq</th>\n",
       "      <th>num_qna</th>\n",
       "    </tr>\n",
       "  </thead>\n",
       "  <tbody>\n",
       "    <tr>\n",
       "      <th>0</th>\n",
       "      <td>ADBB538</td>\n",
       "      <td>2007-05-28 05:00:35</td>\n",
       "      <td>2007-06-30 12:00:00</td>\n",
       "      <td>UE799D6</td>\n",
       "      <td>100</td>\n",
       "      <td>3</td>\n",
       "      <td>25.0</td>\n",
       "      <td>1</td>\n",
       "      <td>NaN</td>\n",
       "      <td>0.0</td>\n",
       "      <td>...</td>\n",
       "      <td>NaN</td>\n",
       "      <td>서울 서초구 방배동</td>\n",
       "      <td>일반회사원</td>\n",
       "      <td>NaN</td>\n",
       "      <td>0</td>\n",
       "      <td>0</td>\n",
       "      <td>NaN</td>\n",
       "      <td>0</td>\n",
       "      <td>0</td>\n",
       "      <td>0</td>\n",
       "    </tr>\n",
       "    <tr>\n",
       "      <th>1</th>\n",
       "      <td>A6C8F3E</td>\n",
       "      <td>2007-05-28 05:21:12</td>\n",
       "      <td>2007-09-01 12:00:00</td>\n",
       "      <td>UE799D6</td>\n",
       "      <td>100</td>\n",
       "      <td>12</td>\n",
       "      <td>29.0</td>\n",
       "      <td>1</td>\n",
       "      <td>NaN</td>\n",
       "      <td>0.0</td>\n",
       "      <td>...</td>\n",
       "      <td>NaN</td>\n",
       "      <td>서울 서초구 방배동</td>\n",
       "      <td>일반회사원</td>\n",
       "      <td>NaN</td>\n",
       "      <td>0</td>\n",
       "      <td>0</td>\n",
       "      <td>NaN</td>\n",
       "      <td>0</td>\n",
       "      <td>0</td>\n",
       "      <td>0</td>\n",
       "    </tr>\n",
       "    <tr>\n",
       "      <th>2</th>\n",
       "      <td>A8C32F3</td>\n",
       "      <td>2007-05-28 05:24:10</td>\n",
       "      <td>2007-09-01 12:00:00</td>\n",
       "      <td>UE799D6</td>\n",
       "      <td>200</td>\n",
       "      <td>12</td>\n",
       "      <td>29.0</td>\n",
       "      <td>1</td>\n",
       "      <td>NaN</td>\n",
       "      <td>0.0</td>\n",
       "      <td>...</td>\n",
       "      <td>NaN</td>\n",
       "      <td>서울 서초구 방배동</td>\n",
       "      <td>일반회사원</td>\n",
       "      <td>NaN</td>\n",
       "      <td>0</td>\n",
       "      <td>0</td>\n",
       "      <td>NaN</td>\n",
       "      <td>0</td>\n",
       "      <td>0</td>\n",
       "      <td>0</td>\n",
       "    </tr>\n",
       "    <tr>\n",
       "      <th>3</th>\n",
       "      <td>AAD65CE</td>\n",
       "      <td>2007-05-28 09:44:38</td>\n",
       "      <td>2007-06-01 12:00:00</td>\n",
       "      <td>UB3D977</td>\n",
       "      <td>100</td>\n",
       "      <td>3</td>\n",
       "      <td>7.0</td>\n",
       "      <td>1</td>\n",
       "      <td>NaN</td>\n",
       "      <td>0.0</td>\n",
       "      <td>...</td>\n",
       "      <td>NaN</td>\n",
       "      <td>NaN</td>\n",
       "      <td>NaN</td>\n",
       "      <td>NaN</td>\n",
       "      <td>0</td>\n",
       "      <td>0</td>\n",
       "      <td>NaN</td>\n",
       "      <td>0</td>\n",
       "      <td>0</td>\n",
       "      <td>6</td>\n",
       "    </tr>\n",
       "    <tr>\n",
       "      <th>4</th>\n",
       "      <td>A22DEE1</td>\n",
       "      <td>2007-05-28 09:57:30</td>\n",
       "      <td>2007-06-29 12:00:00</td>\n",
       "      <td>UEA8D32</td>\n",
       "      <td>100</td>\n",
       "      <td>3</td>\n",
       "      <td>6.0</td>\n",
       "      <td>1</td>\n",
       "      <td>NaN</td>\n",
       "      <td>0.0</td>\n",
       "      <td>...</td>\n",
       "      <td>NaN</td>\n",
       "      <td>NaN</td>\n",
       "      <td>NaN</td>\n",
       "      <td>NaN</td>\n",
       "      <td>0</td>\n",
       "      <td>0</td>\n",
       "      <td>NaN</td>\n",
       "      <td>0</td>\n",
       "      <td>0</td>\n",
       "      <td>7</td>\n",
       "    </tr>\n",
       "  </tbody>\n",
       "</table>\n",
       "<p>5 rows × 39 columns</p>\n",
       "</div>"
      ],
      "text/plain": [
       "      a_id        date_started          date_ended     b_id  amnt_target  \\\n",
       "0  ADBB538 2007-05-28 05:00:35 2007-06-30 12:00:00  UE799D6          100   \n",
       "1  A6C8F3E 2007-05-28 05:21:12 2007-09-01 12:00:00  UE799D6          100   \n",
       "2  A8C32F3 2007-05-28 05:24:10 2007-09-01 12:00:00  UE799D6          200   \n",
       "3  AAD65CE 2007-05-28 09:44:38 2007-06-01 12:00:00  UB3D977          100   \n",
       "4  A22DEE1 2007-05-28 09:57:30 2007-06-29 12:00:00  UEA8D32          100   \n",
       "\n",
       "   pymnt_period  rate_asking  matching_cat loanpurpose_cat  amnt_funded  ...  \\\n",
       "0             3         25.0             1             NaN          0.0  ...   \n",
       "1            12         29.0             1             NaN          0.0  ...   \n",
       "2            12         29.0             1             NaN          0.0  ...   \n",
       "3             3          7.0             1             NaN          0.0  ...   \n",
       "4             3          6.0             1             NaN          0.0  ...   \n",
       "\n",
       "   h_status      region  e_status  e_desc  m_status  num_cohab  h_ownership  \\\n",
       "0       NaN  서울 서초구 방배동     일반회사원     NaN         0          0          NaN   \n",
       "1       NaN  서울 서초구 방배동     일반회사원     NaN         0          0          NaN   \n",
       "2       NaN  서울 서초구 방배동     일반회사원     NaN         0          0          NaN   \n",
       "3       NaN         NaN       NaN     NaN         0          0          NaN   \n",
       "4       NaN         NaN       NaN     NaN         0          0          NaN   \n",
       "\n",
       "   v_ownership  delinq  num_qna  \n",
       "0            0       0        0  \n",
       "1            0       0        0  \n",
       "2            0       0        0  \n",
       "3            0       0        6  \n",
       "4            0       0        7  \n",
       "\n",
       "[5 rows x 39 columns]"
      ]
     },
     "execution_count": 27,
     "metadata": {},
     "output_type": "execute_result"
    }
   ],
   "source": [
    "p2p_new.head()"
   ]
  },
  {
   "cell_type": "code",
   "execution_count": 28,
   "metadata": {},
   "outputs": [
    {
     "data": {
      "text/plain": [
       "Index(['투자자ID', '가입일', '페이스북로그인', '성별', '나이', '오토비드사용', '미투비드갑사용', '대부회원 여부'], dtype='object')"
      ]
     },
     "execution_count": 28,
     "metadata": {},
     "output_type": "execute_result"
    }
   ],
   "source": [
    "user = pd.read_excel(filepath + 'user.xlsx')\n",
    "user.columns"
   ]
  },
  {
   "cell_type": "code",
   "execution_count": 29,
   "metadata": {},
   "outputs": [
    {
     "data": {
      "text/plain": [
       "26830"
      ]
     },
     "execution_count": 29,
     "metadata": {},
     "output_type": "execute_result"
    }
   ],
   "source": [
    "p2p_new['a_id'].nunique()"
   ]
  },
  {
   "cell_type": "code",
   "execution_count": 30,
   "metadata": {},
   "outputs": [
    {
     "data": {
      "text/plain": [
       "3215"
      ]
     },
     "execution_count": 30,
     "metadata": {},
     "output_type": "execute_result"
    }
   ],
   "source": [
    "join_new['a_id'].nunique()"
   ]
  },
  {
   "cell_type": "code",
   "execution_count": 31,
   "metadata": {},
   "outputs": [
    {
     "data": {
      "text/plain": [
       "3215"
      ]
     },
     "execution_count": 31,
     "metadata": {},
     "output_type": "execute_result"
    }
   ],
   "source": [
    "len(np.unique(join_new['a_id']))"
   ]
  },
  {
   "cell_type": "code",
   "execution_count": 35,
   "metadata": {},
   "outputs": [
    {
     "data": {
      "text/plain": [
       "2699356"
      ]
     },
     "execution_count": 35,
     "metadata": {},
     "output_type": "execute_result"
    }
   ],
   "source": [
    "join_new.size"
   ]
  },
  {
   "cell_type": "code",
   "execution_count": 36,
   "metadata": {
    "scrolled": true
   },
   "outputs": [
    {
     "data": {
      "text/html": [
       "<div>\n",
       "<style scoped>\n",
       "    .dataframe tbody tr th:only-of-type {\n",
       "        vertical-align: middle;\n",
       "    }\n",
       "\n",
       "    .dataframe tbody tr th {\n",
       "        vertical-align: top;\n",
       "    }\n",
       "\n",
       "    .dataframe thead th {\n",
       "        text-align: right;\n",
       "    }\n",
       "</style>\n",
       "<table border=\"1\" class=\"dataframe\">\n",
       "  <thead>\n",
       "    <tr style=\"text-align: right;\">\n",
       "      <th></th>\n",
       "      <th>a_cnt</th>\n",
       "    </tr>\n",
       "  </thead>\n",
       "  <tbody>\n",
       "    <tr>\n",
       "      <th>0</th>\n",
       "      <td>1</td>\n",
       "    </tr>\n",
       "    <tr>\n",
       "      <th>1</th>\n",
       "      <td>104</td>\n",
       "    </tr>\n",
       "    <tr>\n",
       "      <th>2</th>\n",
       "      <td>6</td>\n",
       "    </tr>\n",
       "    <tr>\n",
       "      <th>3</th>\n",
       "      <td>45</td>\n",
       "    </tr>\n",
       "    <tr>\n",
       "      <th>4</th>\n",
       "      <td>136</td>\n",
       "    </tr>\n",
       "    <tr>\n",
       "      <th>...</th>\n",
       "      <td>...</td>\n",
       "    </tr>\n",
       "    <tr>\n",
       "      <th>3210</th>\n",
       "      <td>270</td>\n",
       "    </tr>\n",
       "    <tr>\n",
       "      <th>3211</th>\n",
       "      <td>58</td>\n",
       "    </tr>\n",
       "    <tr>\n",
       "      <th>3212</th>\n",
       "      <td>102</td>\n",
       "    </tr>\n",
       "    <tr>\n",
       "      <th>3213</th>\n",
       "      <td>74</td>\n",
       "    </tr>\n",
       "    <tr>\n",
       "      <th>3214</th>\n",
       "      <td>96</td>\n",
       "    </tr>\n",
       "  </tbody>\n",
       "</table>\n",
       "<p>3215 rows × 1 columns</p>\n",
       "</div>"
      ],
      "text/plain": [
       "      a_cnt\n",
       "0         1\n",
       "1       104\n",
       "2         6\n",
       "3        45\n",
       "4       136\n",
       "...     ...\n",
       "3210    270\n",
       "3211     58\n",
       "3212    102\n",
       "3213     74\n",
       "3214     96\n",
       "\n",
       "[3215 rows x 1 columns]"
      ]
     },
     "execution_count": 36,
     "metadata": {},
     "output_type": "execute_result"
    }
   ],
   "source": [
    "ps.sqldf(\"SELECT COUNT(a_id) AS a_cnt FROM join_new GROUP BY a_id\", globals())"
   ]
  },
  {
   "cell_type": "code",
   "execution_count": 37,
   "metadata": {},
   "outputs": [
    {
     "data": {
      "text/html": [
       "<div>\n",
       "<style scoped>\n",
       "    .dataframe tbody tr th:only-of-type {\n",
       "        vertical-align: middle;\n",
       "    }\n",
       "\n",
       "    .dataframe tbody tr th {\n",
       "        vertical-align: top;\n",
       "    }\n",
       "\n",
       "    .dataframe thead th {\n",
       "        text-align: right;\n",
       "    }\n",
       "</style>\n",
       "<table border=\"1\" class=\"dataframe\">\n",
       "  <thead>\n",
       "    <tr style=\"text-align: right;\">\n",
       "      <th></th>\n",
       "      <th>a_cat</th>\n",
       "      <th>cnt</th>\n",
       "    </tr>\n",
       "  </thead>\n",
       "  <tbody>\n",
       "  </tbody>\n",
       "</table>\n",
       "</div>"
      ],
      "text/plain": [
       "Empty DataFrame\n",
       "Columns: [a_cat, cnt]\n",
       "Index: []"
      ]
     },
     "execution_count": 37,
     "metadata": {},
     "output_type": "execute_result"
    }
   ],
   "source": [
    "ps.sqldf(\"SELECT a_cat, COUNT(a_id) AS cnt FROM join_new WHERE order_bid == 0 GROUP BY 1;\", globals())"
   ]
  },
  {
   "cell_type": "code",
   "execution_count": 39,
   "metadata": {},
   "outputs": [
    {
     "data": {
      "text/html": [
       "<div>\n",
       "<style scoped>\n",
       "    .dataframe tbody tr th:only-of-type {\n",
       "        vertical-align: middle;\n",
       "    }\n",
       "\n",
       "    .dataframe tbody tr th {\n",
       "        vertical-align: top;\n",
       "    }\n",
       "\n",
       "    .dataframe thead th {\n",
       "        text-align: right;\n",
       "    }\n",
       "</style>\n",
       "<table border=\"1\" class=\"dataframe\">\n",
       "  <thead>\n",
       "    <tr style=\"text-align: right;\">\n",
       "      <th></th>\n",
       "      <th>a_cat</th>\n",
       "      <th>cnt</th>\n",
       "    </tr>\n",
       "  </thead>\n",
       "  <tbody>\n",
       "    <tr>\n",
       "      <th>0</th>\n",
       "      <td>개인</td>\n",
       "      <td>3087</td>\n",
       "    </tr>\n",
       "    <tr>\n",
       "      <th>1</th>\n",
       "      <td>기업</td>\n",
       "      <td>128</td>\n",
       "    </tr>\n",
       "  </tbody>\n",
       "</table>\n",
       "</div>"
      ],
      "text/plain": [
       "  a_cat   cnt\n",
       "0    개인  3087\n",
       "1    기업   128"
      ]
     },
     "execution_count": 39,
     "metadata": {},
     "output_type": "execute_result"
    }
   ],
   "source": [
    "ps.sqldf(\"SELECT a_cat, COUNT(a_id) AS cnt FROM join_new WHERE order_bid == 1 GROUP BY 1;\", globals())"
   ]
  },
  {
   "cell_type": "code",
   "execution_count": 41,
   "metadata": {},
   "outputs": [
    {
     "data": {
      "image/png": "[encoded data removed]",
      "text/plain": [
       "<Figure size 432x288 with 1 Axes>"
      ]
     },
     "metadata": {
      "needs_background": "light"
     },
     "output_type": "display_data"
    }
   ],
   "source": [
    "a_cnt = ps.sqldf(\"SELECT count(a_id) AS a_cnt FROM join_new GROUP BY a_id;\", globals())\n",
    "sns.distplot(a_cnt)\n",
    "plt.xlabel('a_cnt')\n",
    "plt.ylabel('density')\n",
    "plt.show()"
   ]
  },
  {
   "cell_type": "code",
   "execution_count": 44,
   "metadata": {},
   "outputs": [
    {
     "data": {
      "text/plain": [
       "26830"
      ]
     },
     "execution_count": 44,
     "metadata": {},
     "output_type": "execute_result"
    }
   ],
   "source": [
    "p2p_new['a_id'].nunique()"
   ]
  },
  {
   "cell_type": "code",
   "execution_count": 45,
   "metadata": {},
   "outputs": [
    {
     "data": {
      "text/html": [
       "<div>\n",
       "<style scoped>\n",
       "    .dataframe tbody tr th:only-of-type {\n",
       "        vertical-align: middle;\n",
       "    }\n",
       "\n",
       "    .dataframe tbody tr th {\n",
       "        vertical-align: top;\n",
       "    }\n",
       "\n",
       "    .dataframe thead th {\n",
       "        text-align: right;\n",
       "    }\n",
       "</style>\n",
       "<table border=\"1\" class=\"dataframe\">\n",
       "  <thead>\n",
       "    <tr style=\"text-align: right;\">\n",
       "      <th></th>\n",
       "      <th>a_id</th>\n",
       "      <th>a_cnt</th>\n",
       "    </tr>\n",
       "  </thead>\n",
       "  <tbody>\n",
       "    <tr>\n",
       "      <th>0</th>\n",
       "      <td>A2DE5DD</td>\n",
       "      <td>2</td>\n",
       "    </tr>\n",
       "    <tr>\n",
       "      <th>1</th>\n",
       "      <td>A2E7199</td>\n",
       "      <td>2</td>\n",
       "    </tr>\n",
       "    <tr>\n",
       "      <th>2</th>\n",
       "      <td>A30C9FA</td>\n",
       "      <td>2</td>\n",
       "    </tr>\n",
       "    <tr>\n",
       "      <th>3</th>\n",
       "      <td>A3776E6</td>\n",
       "      <td>2</td>\n",
       "    </tr>\n",
       "    <tr>\n",
       "      <th>4</th>\n",
       "      <td>A3C5F10</td>\n",
       "      <td>2</td>\n",
       "    </tr>\n",
       "    <tr>\n",
       "      <th>5</th>\n",
       "      <td>A43909E</td>\n",
       "      <td>2</td>\n",
       "    </tr>\n",
       "    <tr>\n",
       "      <th>6</th>\n",
       "      <td>A454F74</td>\n",
       "      <td>2</td>\n",
       "    </tr>\n",
       "    <tr>\n",
       "      <th>7</th>\n",
       "      <td>A545120</td>\n",
       "      <td>2</td>\n",
       "    </tr>\n",
       "    <tr>\n",
       "      <th>8</th>\n",
       "      <td>A5A40E6</td>\n",
       "      <td>2</td>\n",
       "    </tr>\n",
       "    <tr>\n",
       "      <th>9</th>\n",
       "      <td>A5F31F5</td>\n",
       "      <td>2</td>\n",
       "    </tr>\n",
       "    <tr>\n",
       "      <th>10</th>\n",
       "      <td>A6D0869</td>\n",
       "      <td>2</td>\n",
       "    </tr>\n",
       "    <tr>\n",
       "      <th>11</th>\n",
       "      <td>A80CF57</td>\n",
       "      <td>2</td>\n",
       "    </tr>\n",
       "    <tr>\n",
       "      <th>12</th>\n",
       "      <td>A81049F</td>\n",
       "      <td>2</td>\n",
       "    </tr>\n",
       "    <tr>\n",
       "      <th>13</th>\n",
       "      <td>A96A673</td>\n",
       "      <td>2</td>\n",
       "    </tr>\n",
       "    <tr>\n",
       "      <th>14</th>\n",
       "      <td>AA22511</td>\n",
       "      <td>2</td>\n",
       "    </tr>\n",
       "    <tr>\n",
       "      <th>15</th>\n",
       "      <td>AB9063F</td>\n",
       "      <td>2</td>\n",
       "    </tr>\n",
       "    <tr>\n",
       "      <th>16</th>\n",
       "      <td>AC0D0FC</td>\n",
       "      <td>2</td>\n",
       "    </tr>\n",
       "    <tr>\n",
       "      <th>17</th>\n",
       "      <td>AC2244E</td>\n",
       "      <td>2</td>\n",
       "    </tr>\n",
       "    <tr>\n",
       "      <th>18</th>\n",
       "      <td>ACE6F24</td>\n",
       "      <td>2</td>\n",
       "    </tr>\n",
       "    <tr>\n",
       "      <th>19</th>\n",
       "      <td>AD436AE</td>\n",
       "      <td>2</td>\n",
       "    </tr>\n",
       "    <tr>\n",
       "      <th>20</th>\n",
       "      <td>ADE8EA3</td>\n",
       "      <td>2</td>\n",
       "    </tr>\n",
       "    <tr>\n",
       "      <th>21</th>\n",
       "      <td>ADF4BBA</td>\n",
       "      <td>2</td>\n",
       "    </tr>\n",
       "    <tr>\n",
       "      <th>22</th>\n",
       "      <td>AE3F744</td>\n",
       "      <td>2</td>\n",
       "    </tr>\n",
       "    <tr>\n",
       "      <th>23</th>\n",
       "      <td>AEDA821</td>\n",
       "      <td>2</td>\n",
       "    </tr>\n",
       "    <tr>\n",
       "      <th>24</th>\n",
       "      <td>AF76042</td>\n",
       "      <td>2</td>\n",
       "    </tr>\n",
       "  </tbody>\n",
       "</table>\n",
       "</div>"
      ],
      "text/plain": [
       "       a_id  a_cnt\n",
       "0   A2DE5DD      2\n",
       "1   A2E7199      2\n",
       "2   A30C9FA      2\n",
       "3   A3776E6      2\n",
       "4   A3C5F10      2\n",
       "5   A43909E      2\n",
       "6   A454F74      2\n",
       "7   A545120      2\n",
       "8   A5A40E6      2\n",
       "9   A5F31F5      2\n",
       "10  A6D0869      2\n",
       "11  A80CF57      2\n",
       "12  A81049F      2\n",
       "13  A96A673      2\n",
       "14  AA22511      2\n",
       "15  AB9063F      2\n",
       "16  AC0D0FC      2\n",
       "17  AC2244E      2\n",
       "18  ACE6F24      2\n",
       "19  AD436AE      2\n",
       "20  ADE8EA3      2\n",
       "21  ADF4BBA      2\n",
       "22  AE3F744      2\n",
       "23  AEDA821      2\n",
       "24  AF76042      2"
      ]
     },
     "execution_count": 45,
     "metadata": {},
     "output_type": "execute_result"
    }
   ],
   "source": [
    "ps.sqldf(\"SELECT a_id, COUNT(a_id) AS a_cnt FROM p2p_new GROUP BY a_id HAVING a_cnt > 1;\", globals())"
   ]
  },
  {
   "cell_type": "code",
   "execution_count": 46,
   "metadata": {},
   "outputs": [
    {
     "data": {
      "text/plain": [
       "26855"
      ]
     },
     "execution_count": 46,
     "metadata": {},
     "output_type": "execute_result"
    }
   ],
   "source": [
    "26830+25"
   ]
  },
  {
   "cell_type": "code",
   "execution_count": 47,
   "metadata": {},
   "outputs": [
    {
     "data": {
      "text/plain": [
       "0.000930925339787749"
      ]
     },
     "execution_count": 47,
     "metadata": {},
     "output_type": "execute_result"
    }
   ],
   "source": [
    "25 / 26855"
   ]
  },
  {
   "cell_type": "code",
   "execution_count": 48,
   "metadata": {},
   "outputs": [
    {
     "data": {
      "text/plain": [
       "fundsuccess\n",
       "0    24760\n",
       "1     2095\n",
       "dtype: int64"
      ]
     },
     "execution_count": 48,
     "metadata": {},
     "output_type": "execute_result"
    }
   ],
   "source": [
    "p2p_new.groupby('fundsuccess').size()"
   ]
  },
  {
   "cell_type": "code",
   "execution_count": 49,
   "metadata": {},
   "outputs": [
    {
     "data": {
      "text/plain": [
       "26855"
      ]
     },
     "execution_count": 49,
     "metadata": {},
     "output_type": "execute_result"
    }
   ],
   "source": [
    "2095 + 24760"
   ]
  },
  {
   "cell_type": "code",
   "execution_count": 50,
   "metadata": {},
   "outputs": [
    {
     "data": {
      "text/plain": [
       "0.07801154347421337"
      ]
     },
     "execution_count": 50,
     "metadata": {},
     "output_type": "execute_result"
    }
   ],
   "source": [
    "2095 / 26855"
   ]
  },
  {
   "cell_type": "code",
   "execution_count": 51,
   "metadata": {},
   "outputs": [
    {
     "data": {
      "text/html": [
       "<div>\n",
       "<style scoped>\n",
       "    .dataframe tbody tr th:only-of-type {\n",
       "        vertical-align: middle;\n",
       "    }\n",
       "\n",
       "    .dataframe tbody tr th {\n",
       "        vertical-align: top;\n",
       "    }\n",
       "\n",
       "    .dataframe thead th {\n",
       "        text-align: right;\n",
       "    }\n",
       "</style>\n",
       "<table border=\"1\" class=\"dataframe\">\n",
       "  <thead>\n",
       "    <tr style=\"text-align: right;\">\n",
       "      <th></th>\n",
       "      <th>a_cnt</th>\n",
       "    </tr>\n",
       "  </thead>\n",
       "  <tbody>\n",
       "    <tr>\n",
       "      <th>0</th>\n",
       "      <td>1</td>\n",
       "    </tr>\n",
       "    <tr>\n",
       "      <th>1</th>\n",
       "      <td>1</td>\n",
       "    </tr>\n",
       "    <tr>\n",
       "      <th>2</th>\n",
       "      <td>1</td>\n",
       "    </tr>\n",
       "    <tr>\n",
       "      <th>3</th>\n",
       "      <td>1</td>\n",
       "    </tr>\n",
       "    <tr>\n",
       "      <th>4</th>\n",
       "      <td>1</td>\n",
       "    </tr>\n",
       "    <tr>\n",
       "      <th>...</th>\n",
       "      <td>...</td>\n",
       "    </tr>\n",
       "    <tr>\n",
       "      <th>2090</th>\n",
       "      <td>1</td>\n",
       "    </tr>\n",
       "    <tr>\n",
       "      <th>2091</th>\n",
       "      <td>1</td>\n",
       "    </tr>\n",
       "    <tr>\n",
       "      <th>2092</th>\n",
       "      <td>1</td>\n",
       "    </tr>\n",
       "    <tr>\n",
       "      <th>2093</th>\n",
       "      <td>1</td>\n",
       "    </tr>\n",
       "    <tr>\n",
       "      <th>2094</th>\n",
       "      <td>1</td>\n",
       "    </tr>\n",
       "  </tbody>\n",
       "</table>\n",
       "<p>2095 rows × 1 columns</p>\n",
       "</div>"
      ],
      "text/plain": [
       "      a_cnt\n",
       "0         1\n",
       "1         1\n",
       "2         1\n",
       "3         1\n",
       "4         1\n",
       "...     ...\n",
       "2090      1\n",
       "2091      1\n",
       "2092      1\n",
       "2093      1\n",
       "2094      1\n",
       "\n",
       "[2095 rows x 1 columns]"
      ]
     },
     "execution_count": 51,
     "metadata": {},
     "output_type": "execute_result"
    }
   ],
   "source": [
    "ps.sqldf(\"SELECT COUNT(a_id) AS a_cnt FROM p2p_new WHERE fundsuccess == 1 GROUP BY a_id;\", globals())"
   ]
  },
  {
   "cell_type": "code",
   "execution_count": 52,
   "metadata": {},
   "outputs": [
    {
     "data": {
      "text/plain": [
       "11163"
      ]
     },
     "execution_count": 52,
     "metadata": {},
     "output_type": "execute_result"
    }
   ],
   "source": [
    "len(np.unique(p2p_kr['대출자ID']))"
   ]
  },
  {
   "cell_type": "code",
   "execution_count": 54,
   "metadata": {},
   "outputs": [
    {
     "data": {
      "text/plain": [
       "11163"
      ]
     },
     "execution_count": 54,
     "metadata": {},
     "output_type": "execute_result"
    }
   ],
   "source": [
    "p2p_kr['대출자ID'].nunique()"
   ]
  },
  {
   "cell_type": "code",
   "execution_count": 55,
   "metadata": {},
   "outputs": [
    {
     "data": {
      "text/plain": [
       "6345"
      ]
     },
     "execution_count": 55,
     "metadata": {},
     "output_type": "execute_result"
    }
   ],
   "source": [
    "join_new['l_id'].nunique()"
   ]
  },
  {
   "cell_type": "code",
   "execution_count": 56,
   "metadata": {},
   "outputs": [
    {
     "data": {
      "text/plain": [
       "1.759338061465721"
      ]
     },
     "execution_count": 56,
     "metadata": {},
     "output_type": "execute_result"
    }
   ],
   "source": [
    "11163 / 6345"
   ]
  },
  {
   "cell_type": "code",
   "execution_count": null,
   "metadata": {},
   "outputs": [],
   "source": []
  }
 ],
 "metadata": {
  "kernelspec": {
   "display_name": "Python 3",
   "language": "python",
   "name": "python3"
  },
  "language_info": {
   "codemirror_mode": {
    "name": "ipython",
    "version": 3
   },
   "file_extension": ".py",
   "mimetype": "text/x-python",
   "name": "python",
   "nbconvert_exporter": "python",
   "pygments_lexer": "ipython3",
   "version": "3.7.6"
  }
 },
 "nbformat": 4,
 "nbformat_minor": 4
}
