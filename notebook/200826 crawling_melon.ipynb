{
 "cells": [
  {
   "cell_type": "code",
   "execution_count": 7,
   "metadata": {},
   "outputs": [
    {
     "name": "stderr",
     "output_type": "stream",
     "text": [
      "[WDM] - Current google-chrome version is 85.0.4183\n",
      "[WDM] - Get LATEST driver version for 85.0.4183\n",
      "[WDM] - There is no [win32] chromedriver for browser 85.0.4183 in cache\n",
      "[WDM] - Get LATEST driver version for 85.0.4183\n"
     ]
    },
    {
     "name": "stdout",
     "output_type": "stream",
     "text": [
      " \n"
     ]
    },
    {
     "name": "stderr",
     "output_type": "stream",
     "text": [
      "[WDM] - Trying to download new driver from http://chromedriver.storage.googleapis.com/85.0.4183.87/chromedriver_win32.zip\n",
      "[WDM] - Driver has been saved in cache [C:\\Users\\sds\\.wdm\\drivers\\chromedriver\\win32\\85.0.4183.87]\n"
     ]
    },
    {
     "name": "stdout",
     "output_type": "stream",
     "text": [
      "해당 페이지에 차트정보가 없습니다.\n"
     ]
    }
   ],
   "source": [
    "from selenium import webdriver\n",
    "from selenium.webdriver.support.ui import WebDriverWait\n",
    "from selenium.webdriver.support import expected_conditions as EC\n",
    "from selenium.webdriver.common.by import By\n",
    "from selenium.common.exceptions import TimeoutException\n",
    "from webdriver_manager.chrome import ChromeDriverManager\n",
    "from math import ceil\n",
    "from itertools import chain\n",
    "import pandas as pd\n",
    "import time\n",
    "\n",
    "\n",
    "options = webdriver.ChromeOptions()\n",
    "options.add_argument('headless')\n",
    "options.add_argument('disable-gpu')\n",
    "options.add_argument('lang=ko_KR')\n",
    "driver = webdriver.Chrome(ChromeDriverManager().install(), options=options)\n",
    "\n",
    "\n",
    "def page_move(url):\n",
    "    if isinstance(url, str):\n",
    "        driver.get(url)\n",
    "    else:\n",
    "        driver.get(str(url))\n",
    "\n",
    "\n",
    "def get_chart_list():\n",
    "    try:\n",
    "        WebDriverWait(driver, 3).until(EC.presence_of_element_located((By.CLASS_NAME, 'lst50')))\n",
    "        chart_list = []\n",
    "        data = driver.find_elements_by_class_name('lst50 > td')\n",
    "        for k in data:\n",
    "            chart_list.append(k.text.split('\\n'))\n",
    "        chain_list = list(chain(*chart_list))\n",
    "        chuck_data = chunk(chain_list, 14)\n",
    "        processing_chart_list(chuck_data)\n",
    "    except TimeoutException:\n",
    "        print('해당 페이지에 차트정보가 없습니다.')\n",
    "    finally:\n",
    "        driver.quit()\n",
    "\n",
    "\n",
    "def processing_chart_list(chart_list):\n",
    "    df = pd.DataFrame(chart_list, columns=['', '순위', '증감', '', '', '제목', '가수', '앨범', '좋아요', '좋아요수', '', '', '', ''])\n",
    "    df.index = df.index + 1\n",
    "    df.to_csv(f'chart_df.csv', mode='w', encoding='utf-8-sig', header=True, index=True)\n",
    "    print(df)\n",
    "\n",
    "\n",
    "def chunk(lst, size):\n",
    "    return list(map(lambda x: lst[x * size:x * size + size], list(range(0, ceil(len(lst) / size)))))\n",
    "\n",
    "\n",
    "if __name__ == '__main__':\n",
    "    page_move('https://www.melon.com/chart/index.htm')\n",
    "    get_chart_list()"
   ]
  },
  {
   "cell_type": "code",
   "execution_count": null,
   "metadata": {},
   "outputs": [],
   "source": []
  },
  {
   "cell_type": "code",
   "execution_count": null,
   "metadata": {},
   "outputs": [],
   "source": []
  },
  {
   "cell_type": "code",
   "execution_count": null,
   "metadata": {},
   "outputs": [],
   "source": []
  }
 ],
 "metadata": {
  "kernelspec": {
   "display_name": "Python 3",
   "language": "python",
   "name": "python3"
  },
  "language_info": {
   "codemirror_mode": {
    "name": "ipython",
    "version": 3
   },
   "file_extension": ".py",
   "mimetype": "text/x-python",
   "name": "python",
   "nbconvert_exporter": "python",
   "pygments_lexer": "ipython3",
   "version": "3.7.6"
  }
 },
 "nbformat": 4,
 "nbformat_minor": 4
}
